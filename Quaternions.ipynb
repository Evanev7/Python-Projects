{
 "cells": [
  {
   "cell_type": "code",
   "execution_count": 1,
   "metadata": {
    "collapsed": true
   },
   "outputs": [],
   "source": [
    "import pyquaternion as pq\n",
    "from pyquaternion import Quaternion as Q\n",
    "import numpy as np\n",
    "π = np.pi\n",
    "e = np.e"
   ]
  },
  {
   "cell_type": "code",
   "execution_count": 2,
   "metadata": {
    "collapsed": true
   },
   "outputs": [],
   "source": [
    "def qround(q,r):\n",
    "    return Q(round(q[0],r),round(q[1],r),round(q[2],r),round(q[3],r))"
   ]
  },
  {
   "cell_type": "code",
   "execution_count": 3,
   "metadata": {
    "collapsed": true
   },
   "outputs": [],
   "source": [
    "def d(f, x, Δx, params=[]):\n",
    "    check = []\n",
    "    for i in range(4):\n",
    "        print([\"1\",\"i\",\"j\",\"k\"][i]+\" axis\")\n",
    "        ax = [Q(1,0,0,0),Q(0,1,0,0),Q(0,0,1,0),Q(0,0,0,1)][i]\n",
    "        if params == []:\n",
    "            check.append((f(x+ax*Δx)-f(x))/(ax*Δx))\n",
    "        else:\n",
    "            check.append((f(x+ax*Δx, *params)-f(x, *params))/(ax*Δx))\n",
    "            \n",
    "        print(check[-1])\n",
    "    if check[0] == check[1] == check[2] == check[3]:\n",
    "        print(\"Differentiable!\")\n",
    "    return check"
   ]
  },
  {
   "cell_type": "code",
   "execution_count": 4,
   "metadata": {
    "collapsed": true
   },
   "outputs": [],
   "source": [
    "def d2(f,x,Δx):\n",
    "    p,q,r,s = f\n",
    "    a,b,c,d = x[0],x[1],x[2],x[3]\n",
    "    pv,qv,rv,sv=p(a,b,c,d),q(a,b,c,d),r(a,b,c,d),s(a,b,c,d)\n",
    "    if round((p(a+Δx,b,c,d)-pv)/Δx,5) == +round((q(a,b+Δx,c,d)-qv)/Δx,5) == +round((r(a,b,c+Δx,d)-rv)/Δx,5) == +round((s(a,b,c,d+Δx)-sv)/Δx,5):\n",
    "        print(\"First condition met\")\n",
    "    else:\n",
    "        print(round((p(a+Δx,b,c,d)-pv)/Δx,5),+round((q(a,b+Δx,c,d)-qv)/Δx,5), +round((r(a,b,c+Δx,d)-rv)/Δx,5), +round((s(a,b,c,d+Δx)-sv)/Δx,5))\n",
    "    if round((q(a+Δx,b,c,d)-qv)/Δx,5) == -round((p(a,b+Δx,c,d)-pv)/Δx,5) == -round((s(a,b,c+Δx,d)-sv)/Δx,5) == +round((r(a,b,c,d+Δx)-rv)/Δx,5):\n",
    "        print(\"Second condition met\")\n",
    "    else:\n",
    "        print(round((q(a+Δx,b,c,d)-qv)/Δx,5) , -round((p(a,b+Δx,c,d)-pv)/Δx,5) , -round((s(a,b,c+Δx,d)-sv)/Δx,5) , +round((r(a,b,c,d+Δx)-rv)/Δx,5))\n",
    "    if round((r(a+Δx,b,c,d)-rv)/Δx,5) == +round((s(a,b+Δx,c,d)-sv)/Δx,5) == -round((p(a,b,c+Δx,d)-pv)/Δx,5) == -round((q(a,b,c,d+Δx)-qv)/Δx,5):\n",
    "        print(\"Third condition met\")\n",
    "    if round((s(a+Δx,b,c,d)-sv)/Δx,5) == -round((r(a,b+Δx,c,d)-rv)/Δx,5) == +round((q(a,b,c+Δx,d)-qv)/Δx,5) == -round((p(a,b,c,d+Δx)-pv)/Δx,5):\n",
    "        print(\"Fourth condition met\")"
   ]
  },
  {
   "cell_type": "code",
   "execution_count": 5,
   "metadata": {
    "collapsed": true
   },
   "outputs": [],
   "source": [
    "def exp(x, det):\n",
    "    tot = 0\n",
    "    for i in range(det):\n",
    "        tot += x**i/(np.math.factorial(i))\n",
    "    return tot"
   ]
  },
  {
   "cell_type": "code",
   "execution_count": 69,
   "metadata": {
    "collapsed": true
   },
   "outputs": [],
   "source": [
    "def p(a,b,c,d):\n",
    "    return a - b - c - d\n",
    "def q(a,b,c,d):\n",
    "    return b + a - d + c\n",
    "def r(a,b,c,d):\n",
    "    return c + d + a - b\n",
    "def s(a,b,c,d):\n",
    "    return d - c + b + a\n",
    "#f(x)=x*+i(a+b+c-d)+j(a-b+c+d)+k(a+b-c+d)\n",
    "#Re(x) = -1/2(x+x*)\n",
    "#K(x) = -1/2(-kx+x*k)\n",
    "#B(x) = -(-Bx+x*B)/2"
   ]
  },
  {
   "cell_type": "code",
   "execution_count": 70,
   "metadata": {},
   "outputs": [
    {
     "name": "stdout",
     "output_type": "stream",
     "text": [
      "First condition met\n",
      "Second condition met\n",
      "Third condition met\n",
      "Fourth condition met\n"
     ]
    }
   ],
   "source": [
    "d2([p,q,r,s],Q(1,2,3,4),0.00000001)"
   ]
  },
  {
   "cell_type": "code",
   "execution_count": 9,
   "metadata": {
    "collapsed": true
   },
   "outputs": [],
   "source": [
    "def pqrs(x):\n",
    "    return Q(1,1,1,1)*x*Q(1,-1,-1,-1)"
   ]
  },
  {
   "cell_type": "code",
   "execution_count": 10,
   "metadata": {},
   "outputs": [
    {
     "name": "stdout",
     "output_type": "stream",
     "text": [
      "1 axis\n",
      "4.000 +0.000i +0.000j +0.000k\n",
      "i axis\n",
      "0.000 +0.000i +0.000j +4.000k\n",
      "j axis\n",
      "0.000 +4.000i +0.000j +0.000k\n",
      "k axis\n",
      "0.000 +0.000i +4.000j +0.000k\n"
     ]
    }
   ],
   "source": [
    "c = d(pqrs, Q(2,2,2,2), 0.01)"
   ]
  },
  {
   "cell_type": "code",
   "execution_count": 38,
   "metadata": {},
   "outputs": [
    {
     "data": {
      "text/plain": [
       "[Quaternion(0.0, 0.99999999999766942, 0.99999999999988987, 0.99999999999988987),\n",
       " Quaternion(0.0, 0.99999999999766942, 0.99999999999988987, 0.99999999999988987),\n",
       " Quaternion(0.0, 0.99999999999988987, 0.99999999999766942, 0.99999999999988987),\n",
       " Quaternion(0.0, 0.99999999999988987, 0.99999999999766942, 0.99999999999766942)]"
      ]
     },
     "execution_count": 38,
     "metadata": {},
     "output_type": "execute_result"
    }
   ],
   "source": [
    "c"
   ]
  },
  {
   "cell_type": "code",
   "execution_count": 131,
   "metadata": {},
   "outputs": [
    {
     "data": {
      "text/plain": [
       "Quaternion(0.9999999999999476, 4.0096952809253351e-15, 4.0096952809253351e-15, 4.0096952809253351e-15)"
      ]
     },
     "execution_count": 131,
     "metadata": {},
     "output_type": "execute_result"
    }
   ],
   "source": [
    "exp(Q(0,2*π/(3**.5),2*π/(3**.5),2*π/(3**.5)),100)"
   ]
  },
  {
   "cell_type": "code",
   "execution_count": 3,
   "metadata": {
    "collapsed": true
   },
   "outputs": [],
   "source": [
    "import numpy as np"
   ]
  },
  {
   "cell_type": "code",
   "execution_count": 4,
   "metadata": {
    "collapsed": true
   },
   "outputs": [],
   "source": [
    "OPT = np.array([[\"1\"]*8]*8,dtype=\"<U8\")\n",
    "b = np.array([\"1\",\"i\",\"j\",\"k\",\"l\",\"il\",\"jl\",\"kl\"])\n",
    "OPT[0,:] = b"
   ]
  },
  {
   "cell_type": "code",
   "execution_count": 25,
   "metadata": {
    "collapsed": true
   },
   "outputs": [],
   "source": [
    "def clean(OPT):\n",
    "    for i in range(1,8):\n",
    "        for j in range(7,i-1,-1):\n",
    "            print(OPT[i,j], OPT[j,i])\n",
    "            if OPT[j,i] == \"-1\" and i!=j:\n",
    "                if OPT[i,j][0] == \"-\":\n",
    "                    OPT[j,i] = OPT[i,j][1:]\n",
    "                else:\n",
    "                    OPT[j,i] = \"-\"+OPT[i,j]\n",
    "    for i in range(8):\n",
    "        OPT[i,0] = OPT[0,i]"
   ]
  },
  {
   "cell_type": "code",
   "execution_count": 32,
   "metadata": {},
   "outputs": [
    {
     "name": "stdout",
     "output_type": "stream",
     "text": [
      "-jl -1\n",
      "kl -kl\n",
      "-l l\n",
      "il -il\n",
      "-j j\n",
      "k -k\n",
      "-1 -1\n",
      "il -1\n",
      "-l l\n",
      "-kl kl\n",
      "jl -jl\n",
      "i -i\n",
      "-1 -1\n",
      "-l -1\n",
      "-il il\n",
      "jl -jl\n",
      "kl -kl\n",
      "-1 -1\n",
      "k -1\n",
      "j -j\n",
      "i -i\n",
      "-1 -1\n",
      "-j -1\n",
      "k -k\n",
      "-1 -1\n",
      "i -i\n",
      "-1 -1\n",
      "-1 -1\n"
     ]
    }
   ],
   "source": [
    "clean(OPT)"
   ]
  },
  {
   "cell_type": "code",
   "execution_count": 31,
   "metadata": {},
   "outputs": [
    {
     "name": "stdout",
     "output_type": "stream",
     "text": [
      "i x 1 = i\n",
      "i x i = -1\n",
      "i x j = k\n",
      "i x k = -j\n",
      "i x l = il\n",
      "i x il = -l\n",
      "i x jl = kl\n",
      "i x kl = 1\n",
      "-jl\n",
      "i x kl = -jl\n",
      "j x i = -k\n",
      "j x j = -1\n",
      "j x k = i\n",
      "j x l = jl\n",
      "j x il = -kl\n",
      "j x jl = -l\n",
      "j x kl = 1\n",
      "il\n",
      "j x kl = il\n",
      "k x j = -i\n",
      "k x k = -1\n",
      "k x l = kl\n",
      "k x il = jl\n",
      "k x jl = -il\n",
      "k x kl = 1\n",
      "-l\n",
      "k x kl = -l\n",
      "l x k = -kl\n",
      "l x l = -1\n",
      "l x il = i\n",
      "l x jl = j\n",
      "l x kl = 1\n",
      "k\n",
      "l x kl = k\n",
      "il x l = -i\n",
      "il x il = -1\n",
      "il x jl = k\n",
      "il x kl = 1\n",
      "-j\n",
      "il x kl = -j\n",
      "jl x il = -k\n",
      "jl x jl = -1\n",
      "jl x kl = 1\n",
      "i\n",
      "jl x kl = i\n",
      "kl x jl = -i\n",
      "kl x kl = 1\n",
      "-1\n",
      "kl x kl = -1\n"
     ]
    }
   ],
   "source": [
    "for i in range(1,8):\n",
    "    for j in range(i-1,8):\n",
    "        print(OPT[0,i],\"x\",OPT[j,0],\"=\",OPT[i,j])\n",
    "        if OPT[i,j] == \"1\":\n",
    "            a = input()\n",
    "            if a != \"\":\n",
    "                OPT[i,j] = a\n",
    "                print(OPT[0,i],\"x\",OPT[j,0],\"=\",OPT[i,j])"
   ]
  },
  {
   "cell_type": "code",
   "execution_count": 33,
   "metadata": {},
   "outputs": [
    {
     "data": {
      "text/plain": [
       "array([['1', 'i', 'j', 'k', 'l', 'il', 'jl', 'kl'],\n",
       "       ['i', '-1', 'k', '-j', 'il', '-l', 'kl', '-jl'],\n",
       "       ['j', '-k', '-1', 'i', 'jl', '-kl', '-l', 'il'],\n",
       "       ['k', 'j', '-i', '-1', 'kl', 'jl', '-il', '-l'],\n",
       "       ['l', '-il', '-jl', '-kl', '-1', 'i', 'j', 'k'],\n",
       "       ['il', 'l', 'kl', '-jl', '-i', '-1', 'k', '-j'],\n",
       "       ['jl', '-kl', 'l', 'il', '-j', '-k', '-1', 'i'],\n",
       "       ['kl', 'jl', '-il', 'l', '-k', 'j', '-i', '-1']], \n",
       "      dtype='<U8')"
      ]
     },
     "execution_count": 33,
     "metadata": {},
     "output_type": "execute_result"
    }
   ],
   "source": [
    "OPT"
   ]
  },
  {
   "cell_type": "code",
   "execution_count": 42,
   "metadata": {},
   "outputs": [
    {
     "name": "stdout",
     "output_type": "stream",
     "text": [
      "1     i     j     k     l     il    jl    kl    \n",
      "i     -1    k     -j    il    -l    kl    -jl   \n",
      "j     -k    -1    i     jl    -kl   -l    il    \n",
      "k     j     -i    -1    kl    jl    -il   -l    \n",
      "l     -il   -jl   -kl   -1    i     j     k     \n",
      "il    l     kl    -jl   -i    -1    k     -j    \n",
      "jl    -kl   l     il    -j    -k    -1    i     \n",
      "kl    jl    -il   l     -k    j     -i    -1    \n"
     ]
    }
   ],
   "source": [
    "for i in OPT:\n",
    "    s=\"\"\n",
    "    for j in i:\n",
    "        s+=\"{:<6}\".format(j)\n",
    "    print(s)"
   ]
  },
  {
   "cell_type": "code",
   "execution_count": null,
   "metadata": {
    "collapsed": true
   },
   "outputs": [],
   "source": []
  },
  {
   "cell_type": "code",
   "execution_count": null,
   "metadata": {
    "collapsed": true
   },
   "outputs": [],
   "source": []
  }
 ],
 "metadata": {
  "kernelspec": {
   "display_name": "Python 3",
   "language": "python",
   "name": "python3"
  },
  "language_info": {
   "codemirror_mode": {
    "name": "ipython",
    "version": 3
   },
   "file_extension": ".py",
   "mimetype": "text/x-python",
   "name": "python",
   "nbconvert_exporter": "python",
   "pygments_lexer": "ipython3",
   "version": "3.6.1"
  }
 },
 "nbformat": 4,
 "nbformat_minor": 2
}
