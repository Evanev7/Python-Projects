{
 "cells": [
  {
   "cell_type": "code",
   "execution_count": 1,
   "metadata": {
    "collapsed": true
   },
   "outputs": [],
   "source": [
    "import numpy as np\n",
    "from numba import jit"
   ]
  },
  {
   "cell_type": "code",
   "execution_count": 5,
   "metadata": {
    "collapsed": true
   },
   "outputs": [],
   "source": [
    "class BadGameState(Exception):\n",
    "    pass"
   ]
  },
  {
   "cell_type": "code",
   "execution_count": 8,
   "metadata": {
    "collapsed": true
   },
   "outputs": [],
   "source": [
    "class bot:\n",
    "    def __init__(self):\n",
    "        self.network = []"
   ]
  },
  {
   "cell_type": "code",
   "execution_count": 7,
   "metadata": {
    "collapsed": true
   },
   "outputs": [],
   "source": [
    "class newGame:\n",
    "    def __init__(self):\n",
    "        self.board = np.array([[[0]*8]*8])\n",
    "        self.snakeLength = 5\n",
    "        self.snakeDir = 1\n",
    "        self.snake = [4+3j,4+4j,4+5j,4+6j,4+7j]\n",
    "        self.running = True\n",
    "    \n",
    "    def move(self, turn):\n",
    "        self.snakeDir *= (1j)**(turn)\n",
    "        \n",
    "        nextSpace = self.snake[0] + self.snakeDir\n",
    "        nextTile = self.board[nextSpace.real, nextSpace.imag]\n",
    "        \n",
    "        if nextTile == -1:\n",
    "            self.running = False\n",
    "        elif nextSpace in self.snake:\n",
    "            self.running = False\n",
    "        elif nextTile == 0:\n",
    "            del self.snake[-1]\n",
    "            [nextSpace].extend(self.snake)\n",
    "        elif nextTile == 1:\n",
    "            [nextSpace].extend(self.snake)\n",
    "        \n",
    "        raise BadGameState"
   ]
  },
  {
   "cell_type": "code",
   "execution_count": null,
   "metadata": {
    "collapsed": true
   },
   "outputs": [],
   "source": []
  }
 ],
 "metadata": {
  "kernelspec": {
   "display_name": "Python 3",
   "language": "python",
   "name": "python3"
  },
  "language_info": {
   "codemirror_mode": {
    "name": "ipython",
    "version": 3
   },
   "file_extension": ".py",
   "mimetype": "text/x-python",
   "name": "python",
   "nbconvert_exporter": "python",
   "pygments_lexer": "ipython3",
   "version": "3.6.1"
  }
 },
 "nbformat": 4,
 "nbformat_minor": 2
}
