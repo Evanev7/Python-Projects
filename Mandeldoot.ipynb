{
 "cells": [
  {
   "cell_type": "code",
   "execution_count": 1,
   "metadata": {
    "collapsed": true
   },
   "outputs": [],
   "source": [
    "from matplotlib import pyplot as plt\n",
    "import numpy as np\n",
    "import numba"
   ]
  },
  {
   "cell_type": "code",
   "execution_count": 2,
   "metadata": {
    "collapsed": true
   },
   "outputs": [],
   "source": [
    "@numba.guvectorize([numba.void(numba.float64[:,:], numba.float64[:], numba.uint16, numba.uint16[:])], \n",
    "                   '(a,b),(b),()->(a)', target='parallel', nopython=True)\n",
    "def mandelbrot(c,j,maxiter,res):\n",
    "    for i in range(c.shape[0]):\n",
    "        creal,cimag,cjmag,ckmag = c[i]\n",
    "        real, imag, jmag, kmag  = j\n",
    "        nreal,nimag,njmag,nkmag  = 0, 0, 0, 0\n",
    "        for n in range(1,maxiter):\n",
    "            real=nreal*nreal - nimag*nimag - njmag*njmag - nkmag*nkmag + creal\n",
    "            imag=2*nreal*nimag + cimag\n",
    "            jmag=2*nreal*njmag + cjmag\n",
    "            kmag=2*nreal*nkmag + ckmag\n",
    "            nreal,nimag,njmag,nkmag = real,imag,jmag,kmag\n",
    "            if real * real + imag * imag + jmag * jmag + kmag * kmag > 4.0:\n",
    "                res[i] = n\n",
    "                break\n",
    "        else:\n",
    "            res[i] = 0\n"
   ]
  },
  {
   "cell_type": "code",
   "execution_count": 5,
   "metadata": {
    "collapsed": true
   },
   "outputs": [],
   "source": [
    "def plotRijk(rijk, data, axis='ri'):\n",
    "    swap = np.swapaxes(rijk,0,1)\n",
    "    dct = {'r':0, 'i':1, 'j':2, 'k':3}\n",
    "    assert len(axis) in [2,3]\n",
    "    points = np.array([swap[dct[i]] for i in axis])\n",
    "    return points"
   ]
  },
  {
   "cell_type": "code",
   "execution_count": 4,
   "metadata": {
    "collapsed": true
   },
   "outputs": [],
   "source": [
    "def colourmap(inp):\n",
    "    @numba.guvectorize([numba.void(numba.int32[:], numba.int32[:], numba.float64[:,:])], \n",
    "                       '(a),(b)->(a,b)', target='parallel', nopython=True)\n",
    "    def colmap(inp, hi, res):\n",
    "        mx = np.max(inp)\n",
    "        for i in range(len(inp)):\n",
    "            if inp[i] != 0:\n",
    "                res[i] = (1.,1-(inp[i]/mx)**.5,1-(inp[i]/mx)**.5)\n",
    "            else:\n",
    "                res[i] = (1,1,1)\n",
    "                \n",
    "    return colmap(inp, [0,0,0])"
   ]
  },
  {
   "cell_type": "code",
   "execution_count": 6,
   "metadata": {
    "collapsed": true
   },
   "outputs": [],
   "source": [
    "from math import gcd\n",
    "from itertools import combinations\n",
    "def isCoprime(*args):\n",
    "    for i in combinations(args,2):\n",
    "        if gcd(*i) != 1:\n",
    "            return False\n",
    "    return True"
   ]
  },
  {
   "cell_type": "code",
   "execution_count": 45,
   "metadata": {},
   "outputs": [],
   "source": [
    "@numba.guvectorize([numba.void(numba.float64[:,:], numba.float64[:], numba.float64, numba.uint16, numba.uint16[:])], \n",
    "                   '(a,b),(b),(),()->(a)', target='parallel', nopython=True)\n",
    "def mandelbox(c,j,scale,maxiter,res):\n",
    "    for i in range(c.shape[0]):\n",
    "        cx, cy, cz = c[i]\n",
    "        for n in range(maxiter):\n",
    "            x,y,z = c[i]\n",
    "            if x > 1: x = 2 - x\n",
    "            elif x < -1: x = -2 - x\n",
    "            if y > 1: y = 2 - y\n",
    "            elif y < -1: y = -2 - y\n",
    "            if z > 1: z = 2 - z\n",
    "            elif z < -1: z = -2 - z\n",
    "            mag = x*x + y*y + z*z\n",
    "            if mag < 0.7071:\n",
    "                x,y,z = 4*x, 4*y, 4*z\n",
    "            elif mag < 1:\n",
    "                x,y,z = x/mag, y/mag, z/mag\n",
    "            elif mag > 4:\n",
    "                res[i] = n\n",
    "                break\n",
    "            x,y,z = scale*x+cx, scale*y+cy, scale*z+cz\n",
    "        else:\n",
    "            res[i] = 0"
   ]
  },
  {
   "cell_type": "code",
   "execution_count": 37,
   "metadata": {},
   "outputs": [],
   "source": [
    "rijk = np.mgrid[-2:2:101j, -2:2:101j, -2:2:101j].reshape(3,-1).T"
   ]
  },
  {
   "cell_type": "code",
   "execution_count": 50,
   "metadata": {},
   "outputs": [],
   "source": [
    "t = mandelbox(rijk, np.array([0,0,0]), 2, 1000)"
   ]
  },
  {
   "cell_type": "code",
   "execution_count": 49,
   "metadata": {},
   "outputs": [
    {
     "data": {
      "text/plain": [
       "True"
      ]
     },
     "execution_count": 49,
     "metadata": {},
     "output_type": "execute_result"
    }
   ],
   "source": [
    "all(0 == t)"
   ]
  },
  {
   "cell_type": "code",
   "execution_count": null,
   "metadata": {
    "collapsed": true
   },
   "outputs": [],
   "source": []
  }
 ],
 "metadata": {
  "kernelspec": {
   "display_name": "Python 3",
   "language": "python",
   "name": "python3"
  },
  "language_info": {
   "codemirror_mode": {
    "name": "ipython",
    "version": 3
   },
   "file_extension": ".py",
   "mimetype": "text/x-python",
   "name": "python",
   "nbconvert_exporter": "python",
   "pygments_lexer": "ipython3",
   "version": "3.6.1"
  }
 },
 "nbformat": 4,
 "nbformat_minor": 2
}
