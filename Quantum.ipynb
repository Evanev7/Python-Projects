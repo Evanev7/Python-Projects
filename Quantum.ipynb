{
 "cells": [
  {
   "cell_type": "code",
   "execution_count": 1,
   "metadata": {
    "collapsed": true
   },
   "outputs": [],
   "source": [
    "import numpy as np\n",
    "from matplotlib import pyplot as plt\n",
    "from numba import jit"
   ]
  },
  {
   "cell_type": "code",
   "execution_count": 2,
   "metadata": {
    "collapsed": true
   },
   "outputs": [],
   "source": [
    "class StateError(ValueError):\n",
    "    pass\n",
    "\n",
    "class qbit(object):\n",
    "    def __init__(self, bits=1):\n",
    "        self.state = [complex(1.,0.), complex(0.,0.)]\n",
    "        self.state.extend([complex(0.,0.)]*(2**(bits)-2))\n",
    "        self.state = np.array(self.state)\n",
    "        self.states = [\"0\"*(bits-len(str(np.binary_repr(i)))) + str(np.binary_repr(i)) for i in range(2**bits)]\n",
    "        \n",
    "    def read(self):\n",
    "        self.check()\n",
    "        val = np.random.random()\n",
    "        i = -1\n",
    "        while val > 0:\n",
    "            i += 1\n",
    "            val -= np.abs(self.state[i])**2\n",
    "        return(i)\n",
    "        \n",
    "    def check(self):\n",
    "        if round(sum(np.abs(self.state)**2),5) != 1:\n",
    "            raise StateError(str(sum(np.abs(self.state)**2)) + \" != 1.0\")\n",
    "        else: return True\n",
    "        \n",
    "    \n",
    "    def distribution(self,a,b):\n",
    "        @jit\n",
    "        def foo():\n",
    "            d=[]\n",
    "            for i in range(a):\n",
    "                s=0\n",
    "                for _ in range(b):\n",
    "                    s+=(self.read())\n",
    "                d.append(s)\n",
    "            k = {}\n",
    "            for i in d:\n",
    "                if i in k.keys():\n",
    "                    k[i] += 1\n",
    "                else:\n",
    "                    k[i] = 1\n",
    "            return list(k.values()),list(k.keys())\n",
    "        y,x = foo()\n",
    "        fig = plt.figure(figsize=[10,5])\n",
    "        ax = fig.gca()\n",
    "        ax.bar(x,y)\n",
    "        ax.set_xlim(0,b)\n",
    "        plt.show()\n",
    "        print(\"μ = \", round(sum([x[i]*y[i] for i in range(len(x))])/(a*b),3))\n",
    "        "
   ]
  },
  {
   "cell_type": "code",
   "execution_count": 3,
   "metadata": {
    "collapsed": true
   },
   "outputs": [],
   "source": [
    "def hadamard(a,b):\n",
    "    assert len(a) == len(b)\n",
    "    "
   ]
  },
  {
   "cell_type": "code",
   "execution_count": 4,
   "metadata": {
    "collapsed": true
   },
   "outputs": [],
   "source": [
    "q = qbit(1)"
   ]
  },
  {
   "cell_type": "code",
   "execution_count": 5,
   "metadata": {
    "collapsed": true
   },
   "outputs": [],
   "source": [
    "q.state[0] = np.sqrt(1/4)\n",
    "q.state[1] = np.sqrt(3/4)"
   ]
  },
  {
   "cell_type": "code",
   "execution_count": null,
   "metadata": {
    "collapsed": true
   },
   "outputs": [],
   "source": []
  }
 ],
 "metadata": {
  "kernelspec": {
   "display_name": "Python 3",
   "language": "python",
   "name": "python3"
  },
  "language_info": {
   "codemirror_mode": {
    "name": "ipython",
    "version": 3
   },
   "file_extension": ".py",
   "mimetype": "text/x-python",
   "name": "python",
   "nbconvert_exporter": "python",
   "pygments_lexer": "ipython3",
   "version": "3.6.1"
  }
 },
 "nbformat": 4,
 "nbformat_minor": 2
}
