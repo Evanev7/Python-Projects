{
 "cells": [
  {
   "cell_type": "code",
   "execution_count": 5,
   "metadata": {
    "collapsed": true
   },
   "outputs": [],
   "source": [
    "from numba import jit"
   ]
  },
  {
   "cell_type": "code",
   "execution_count": null,
   "metadata": {},
   "outputs": [],
   "source": [
    "ln=[]\n",
    "dct = {\"0\":\"\", \"1\":\"one\", \"2\":\"two\", \"3\":\"three\", \"4\":\"four\", \"5\":\"five\", \"6\":\"six\", \"7\":\"seven\", \"8\":\"eight\",\"9\":\"nine\"}\n",
    "dct10={\"0\":\"\", \"1\":\"ten\",\"2\":\"twenty\",\"3\":\"thirty\",\"4\":\"forty\",\"5\":\"fifty\",\"6\":\"sixty\",\"7\":\"seventy\",\"8\":\"eighty\",\"9\":\"ninety\"}\n",
    "for i in range(1000):\n",
    "    o = \"\"\n",
    "    if i > 100 and i%100 != 0:\n",
    "        o += \"and\"\n",
    "    if i >= 100:\n",
    "        o += \"hundred\"\n",
    "        o += dct[str(i)[0]]\n",
    "        o += dct10[str(i)[1]]\n",
    "    elif i < 10:\n",
    "        o += dct[str(i)]\n",
    "    else:\n",
    "        o += dct[str(i)[1]]\n",
    "        o += dct10[str(i)[0]]\n",
    "    if i == 0:\n",
    "        o += \"zero\"\n",
    "    ln.append(o)\n"
   ]
  },
  {
   "cell_type": "code",
   "execution_count": null,
   "metadata": {},
   "outputs": [],
   "source": [
    "ln"
   ]
  },
  {
   "cell_type": "code",
   "execution_count": null,
   "metadata": {
    "collapsed": true
   },
   "outputs": [],
   "source": []
  }
 ],
 "metadata": {
  "kernelspec": {
   "display_name": "Python 3",
   "language": "python",
   "name": "python3"
  },
  "language_info": {
   "codemirror_mode": {
    "name": "ipython",
    "version": 3
   },
   "file_extension": ".py",
   "mimetype": "text/x-python",
   "name": "python",
   "nbconvert_exporter": "python",
   "pygments_lexer": "ipython3",
   "version": "3.6.1"
  }
 },
 "nbformat": 4,
 "nbformat_minor": 2
}
