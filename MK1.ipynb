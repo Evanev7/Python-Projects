{
 "cells": [
  {
   "cell_type": "code",
   "execution_count": null,
   "metadata": {
    "collapsed": true
   },
   "outputs": [],
   "source": [
    "import numpy as np\n",
    "from matplotlib import pyplot as plt\n",
    "from numba import jit\n",
    "from random import random\n",
    "from scipy.special import expit"
   ]
  },
  {
   "cell_type": "code",
   "execution_count": null,
   "metadata": {
    "collapsed": true
   },
   "outputs": [],
   "source": [
    "class networkBaseClass(object):\n",
    "    def __init__(self):\n",
    "        self.size = 1\n",
    "        self.olscores = np.array([])\n",
    "    \n",
    "    \n",
    "    def setNullNetwork(self):\n",
    "        self.network=[]\n",
    "        for i in range(len(self.layersizes)-2):\n",
    "            self.network.append(np.zeros([self.layersizes[i], self.layersizes[i+1]]))\n",
    "            self.network.append(np.zeros([self.layersizes[i+1]]))\n",
    "        self.network.append(np.zeros([self.layersizes[i+1], self.layersizes[i+2]]))\n",
    "    \n",
    "    @jit\n",
    "    def prop(self, val):\n",
    "        for i in range(0,len(self.network)-2,2):\n",
    "            #RelU\n",
    "            val = np.maximum(0,np.dot(val,self.network[i]) - self.network[i+1])\n",
    "            #-1 to 1 ReLU\n",
    "            #val = np.minimum(1,np.maximum(-1,np.dot(val,self.network[i]) - self.network[i+1]))\n",
    "            #Sigmoid\n",
    "            #val = expit(np.dot(val,self.network[i]) - self.network[i+1])\n",
    "        return np.dot(val,self.network[-2])\n",
    "    \n",
    "    @jit\n",
    "    def cost(self, network):\n",
    "        cost = 0\n",
    "        for i in range(len(self.data[0])):\n",
    "            cost += (nnStuff.prop(network, self.data[0][i])-self.data[1][i])**2\n",
    "        return cost    \n",
    "    \n",
    "    \n",
    "    def vecMain(self, size):\n",
    "        types = nnStuff.netToVec([i+len(np.shape(i)) for i in self.network])\n",
    "        score = [self.cost(self.network), None]\n",
    "        self.size = size\n",
    "        vecNet = nnStuff.netToVec(self.network)\n",
    "        for i in range(len(nnStuff.netToVec(self.network))):\n",
    "            vecNet[i] += self.size\n",
    "            c = self.cost(nnStuff.vecToNet(vecNet, self.layersizes))\n",
    "            if c < score[0]:\n",
    "                score = [c, i]\n",
    "            vecNet[i] -= self.size*2\n",
    "            c = self.cost(nnStuff.vecToNet(vecNet, self.layersizes))\n",
    "            if c < score[0]:\n",
    "                score = [c, -i-1]\n",
    "            vecNet[i] += self.size\n",
    "        if score[1] != None:\n",
    "            if vecNet[score[1]] >= 0:\n",
    "                vecNet[score[1]] += self.size\n",
    "            else:\n",
    "                vecNet[-score[1]-1] -= self.size\n",
    "            self.network =  nnStuff.vecToNet(vecNet, self.layersizes)\n",
    "        else:\n",
    "            return False\n",
    "            \n",
    "    \n",
    "    def show(self):\n",
    "        fig = plt.figure()\n",
    "        ax = fig.gca()\n",
    "        ax.plot(self.data[0], self.data[1])\n",
    "        ax.plot(self.data[0], list([self.prop([i]).flatten() for i in self.data[0]]))\n",
    "        plt.show()\n",
    "        plt.close(fig)\n",
    "    \n",
    "    \n",
    "    def showData(self, dat):\n",
    "        fig = plt.figure()\n",
    "        ax = fig.gca()\n",
    "        if max(dat) >= max(self.data[0]) and min(dat) <= min(self.data[0]):\n",
    "            ax.plot(self.data[0], self.data[1])\n",
    "        ax.plot(dat, list([self.prop(i).flatten() for i in dat]))\n",
    "        plt.show()\n",
    "        plt.close(fig)\n",
    "    \n",
    "class nnStuff:\n",
    "    @jit\n",
    "    def prop(network, val):\n",
    "        for i in range(0,len(network)-2,2):\n",
    "                #val = np.maximum(0,np.dot(val,network[i]) - network[i+1])\n",
    "                val = expit(np.dot(val,network[i]) - network[i+1])\n",
    "        return np.dot(val,network[-2])\n",
    "    \n",
    "    \n",
    "    def getNullNetwork(layersizes):\n",
    "        nn=[]\n",
    "        for i in range(len(layersizes)-2):\n",
    "            nn.append(np.zeros([layersizes[i], layersizes[i+1]]))\n",
    "            nn.append(np.zeros([layersizes[i+1]]))\n",
    "        nn.append(np.zeros([layersizes[i+1], layersizes[i+2]]))\n",
    "        return nn\n",
    "    \n",
    "    @jit\n",
    "    def netToVec(network):\n",
    "        vec = np.array([])\n",
    "        for i in network:\n",
    "            vec = np.append(vec, i.flatten())\n",
    "        return vec\n",
    "\n",
    "    \n",
    "    def vecToNet(vec, layersizes):\n",
    "        index = 0\n",
    "        network = nnStuff.getNullNetwork(layersizes)\n",
    "        for i in range(len(layersizes)-2):\n",
    "            for j in range(layersizes[i]):\n",
    "                for k in range(layersizes[i+1]):\n",
    "                    network[2*i][j][k] = vec[index]\n",
    "                    index += 1\n",
    "            for j in range(layersizes[i+1]):\n",
    "                network[2*i+1][j] = vec[index]\n",
    "                index += 1\n",
    "        for j in range(layersizes[i+1]):\n",
    "            for k in range(layersizes[i+2]):\n",
    "                network[2*i+2][j][k] = vec[index]\n",
    "                index += 1\n",
    "        return network\n",
    "    \n",
    "    def randomize(network, layersizes):\n",
    "        net = nnStuff.netToVec(network)\n",
    "        rand = np.random.randint(-100,100,len(net))/100\n",
    "        return nnStuff.vecToNet(net+rand, layersizes)"
   ]
  },
  {
   "cell_type": "code",
   "execution_count": null,
   "metadata": {},
   "outputs": [],
   "source": [
    "class sineBot(networkBaseClass):\n",
    "    layersizes = [1,10,10,1]\n",
    "    inp = [i/20 for i in range(0,21)]\n",
    "    outp = [np.sin(i*2*np.pi)**2 for i in inp]\n",
    "    data = [[i for i in inp],[i for i in outp]]\n",
    "    transData = [i for i in zip(*data)]\n",
    "    \n",
    "    def __init__(self):\n",
    "        super(sineBot, self).setNullNetwork()\n",
    "        super(sineBot, self).__init__()"
   ]
  },
  {
   "cell_type": "code",
   "execution_count": null,
   "metadata": {
    "collapsed": true
   },
   "outputs": [],
   "source": [
    "s = sineBot()"
   ]
  },
  {
   "cell_type": "code",
   "execution_count": null,
   "metadata": {
    "collapsed": true
   },
   "outputs": [],
   "source": [
    "s.network = nnStuff.vecToNet(np.random.rand(len(nnStuff.netToVec(s.network))), s.layersizes)"
   ]
  },
  {
   "cell_type": "code",
   "execution_count": null,
   "metadata": {
    "scrolled": true
   },
   "outputs": [],
   "source": [
    "for i in range(101):\n",
    "    a=s.vecMain(1)\n",
    "    if a == False:\n",
    "        print(\":(\")\n",
    "    if i*10 % 100 == 0:\n",
    "        print(i)"
   ]
  },
  {
   "cell_type": "code",
   "execution_count": null,
   "metadata": {},
   "outputs": [],
   "source": [
    "s.show()"
   ]
  },
  {
   "cell_type": "code",
   "execution_count": null,
   "metadata": {
    "scrolled": true
   },
   "outputs": [],
   "source": [
    "s.network"
   ]
  },
  {
   "cell_type": "code",
   "execution_count": null,
   "metadata": {
    "collapsed": true
   },
   "outputs": [],
   "source": []
  }
 ],
 "metadata": {
  "kernelspec": {
   "display_name": "Python 3",
   "language": "python",
   "name": "python3"
  },
  "language_info": {
   "codemirror_mode": {
    "name": "ipython",
    "version": 3
   },
   "file_extension": ".py",
   "mimetype": "text/x-python",
   "name": "python",
   "nbconvert_exporter": "python",
   "pygments_lexer": "ipython3",
   "version": "3.6.1"
  }
 },
 "nbformat": 4,
 "nbformat_minor": 2
}
