{
 "cells": [
  {
   "cell_type": "code",
   "execution_count": 13,
   "id": "da1c1dad",
   "metadata": {},
   "outputs": [],
   "source": [
    "from PIL import Image\n",
    "import glob, os\n",
    "import numpy as np"
   ]
  },
  {
   "cell_type": "code",
   "execution_count": 21,
   "id": "e473761b",
   "metadata": {},
   "outputs": [],
   "source": [
    "os.chdir(\"E:\\Godot By Me\\Isometric Tiling\\Assets\\PNG\")\n",
    "imgs = [Image.open(file) for file in glob.glob(\"landscapeTiles_*.png\")]"
   ]
  },
  {
   "cell_type": "code",
   "execution_count": 35,
   "id": "84455d42",
   "metadata": {},
   "outputs": [],
   "source": [
    "img_width, img_height = 0, 0\n",
    "for i, img in enumerate(imgs):\n",
    "    if img.size[0] == 133:\n",
    "        temp = np.array(img)\n",
    "        temp = np.delete(temp, 132, 1)\n",
    "        imgs[i] = Image.fromarray(temp)\n",
    "    if img_width < img.size[0]:\n",
    "        img_width = img.size[0]\n",
    "    if img_height < img.size[1]:\n",
    "        img_height = img.size[1]"
   ]
  },
  {
   "cell_type": "code",
   "execution_count": 52,
   "id": "1ab60dce",
   "metadata": {},
   "outputs": [
    {
     "name": "stdout",
     "output_type": "stream",
     "text": [
      "(2, 50)\n",
      "(136, 34)\n",
      "(270, 50)\n",
      "(404, 50)\n",
      "(538, 34)\n",
      "(672, 2)\n",
      "(806, 34)\n",
      "(940, 50)\n",
      "(1074, 2)\n",
      "(1208, 34)\n",
      "(1342, 50)\n",
      "(1476, 34)\n",
      "(1610, 2)\n",
      "(1744, 34)\n",
      "(1878, 50)\n",
      "(2012, 34)\n",
      "(2, 183)\n",
      "(136, 135)\n",
      "(270, 167)\n",
      "(404, 167)\n",
      "(538, 183)\n",
      "(672, 167)\n",
      "(806, 167)\n",
      "(940, 167)\n",
      "(1074, 167)\n",
      "(1208, 167)\n",
      "(1342, 167)\n",
      "(1476, 167)\n",
      "(1610, 167)\n",
      "(1744, 167)\n",
      "(1878, 167)\n",
      "(2012, 167)\n",
      "(2, 300)\n",
      "(136, 300)\n",
      "(270, 300)\n",
      "(404, 316)\n",
      "(538, 268)\n",
      "(672, 316)\n",
      "(806, 300)\n",
      "(940, 300)\n",
      "(1074, 300)\n",
      "(1208, 300)\n",
      "(1342, 316)\n",
      "(1476, 300)\n",
      "(1610, 316)\n",
      "(1744, 316)\n",
      "(1878, 302)\n",
      "(2012, 300)\n",
      "(2, 433)\n",
      "(136, 433)\n",
      "(270, 433)\n",
      "(404, 449)\n",
      "(538, 449)\n",
      "(672, 449)\n",
      "(806, 435)\n",
      "(940, 433)\n",
      "(1074, 449)\n",
      "(1208, 433)\n",
      "(1342, 449)\n",
      "(1476, 433)\n",
      "(1610, 449)\n",
      "(1744, 449)\n",
      "(1878, 433)\n",
      "(2012, 433)\n",
      "(2, 566)\n",
      "(136, 566)\n",
      "(270, 582)\n",
      "(404, 566)\n",
      "(538, 566)\n",
      "(672, 582)\n",
      "(806, 582)\n",
      "(940, 566)\n",
      "(1074, 566)\n",
      "(1208, 582)\n",
      "(1342, 566)\n",
      "(1476, 566)\n",
      "(1610, 582)\n",
      "(1744, 582)\n",
      "(1878, 566)\n",
      "(2012, 566)\n",
      "(2, 699)\n",
      "(136, 699)\n",
      "(270, 699)\n",
      "(404, 699)\n",
      "(538, 699)\n",
      "(672, 699)\n",
      "(806, 699)\n",
      "(940, 699)\n",
      "(1074, 699)\n",
      "(1208, 699)\n",
      "(1342, 699)\n",
      "(1476, 699)\n",
      "(1610, 699)\n",
      "(1744, 699)\n",
      "(1878, 699)\n",
      "(2012, 699)\n",
      "(2, 832)\n",
      "(136, 832)\n",
      "(270, 800)\n",
      "(404, 832)\n",
      "(538, 832)\n",
      "(672, 832)\n",
      "(806, 832)\n",
      "(940, 832)\n",
      "(1074, 832)\n",
      "(1208, 832)\n",
      "(1342, 800)\n",
      "(1476, 832)\n",
      "(1610, 832)\n",
      "(1744, 800)\n",
      "(1878, 832)\n",
      "(2012, 832)\n",
      "(2, 965)\n",
      "(136, 965)\n",
      "(270, 965)\n",
      "(404, 933)\n",
      "(538, 965)\n",
      "(672, 965)\n",
      "(806, 965)\n",
      "(940, 965)\n",
      "(1074, 935)\n",
      "(1208, 965)\n",
      "(1342, 965)\n",
      "(1476, 965)\n",
      "(1610, 935)\n",
      "(1744, 965)\n",
      "(1878, 965)\n",
      "(2012, 966)\n"
     ]
    }
   ],
   "source": [
    "grid_width = 16\n",
    "grid_height = 8\n",
    "padding_width = 2\n",
    "padding_height = 2\n",
    "offset_width = 2\n",
    "offset_height = 2\n",
    "assert grid_width * grid_height >= len(imgs)\n",
    "\n",
    "align_hor = \"LEFT\"\n",
    "align_ver = \"BOTTOM\"\n",
    "\n",
    "gridsize = ((width + padding_width) * grid_width + offset_width, (height+padding_height) * grid_height + offset_height)\n",
    "grid = Image.new(\"RGBA\", gridsize, (0,0,0,0))\n",
    "\n",
    "for i, img in enumerate(imgs):\n",
    "    img_x = i%grid_width*(img_width+padding_width)+offset_width + (align_hor == \"RIGHT\") * (img_width - img.size[0]) \n",
    "    img_y = i//grid_width*(img_height+padding_height)+offset_height + (align_ver == \"BOTTOM\") * (img_height - img.size[1]) \n",
    "    print((img_x,img_y))\n",
    "    grid.paste(img, box=(img_x,img_y))\n",
    "    "
   ]
  },
  {
   "cell_type": "code",
   "execution_count": 57,
   "id": "ec69f27b",
   "metadata": {},
   "outputs": [],
   "source": [
    "grid.save(\"landscapeTilesRealigned.png\")"
   ]
  },
  {
   "cell_type": "code",
   "execution_count": 40,
   "id": "e7bae940",
   "metadata": {},
   "outputs": [
    {
     "data": {
      "text/plain": [
       "128"
      ]
     },
     "execution_count": 40,
     "metadata": {},
     "output_type": "execute_result"
    }
   ],
   "source": [
    "len(imgs)"
   ]
  },
  {
   "cell_type": "code",
   "execution_count": 49,
   "id": "e591e66f",
   "metadata": {},
   "outputs": [
    {
     "ename": "TypeError",
     "evalue": "'tuple' object does not support item assignment",
     "output_type": "error",
     "traceback": [
      "\u001b[1;31m---------------------------------------------------------------------------\u001b[0m",
      "\u001b[1;31mTypeError\u001b[0m                                 Traceback (most recent call last)",
      "\u001b[1;32m<ipython-input-49-06527fad49dc>\u001b[0m in \u001b[0;36m<module>\u001b[1;34m\u001b[0m\n\u001b[0;32m      1\u001b[0m \u001b[0ma\u001b[0m \u001b[1;33m=\u001b[0m \u001b[1;33m(\u001b[0m\u001b[1;36m3\u001b[0m\u001b[1;33m,\u001b[0m\u001b[1;36m3\u001b[0m\u001b[1;33m)\u001b[0m\u001b[1;33m\u001b[0m\u001b[1;33m\u001b[0m\u001b[0m\n\u001b[1;32m----> 2\u001b[1;33m \u001b[0ma\u001b[0m\u001b[1;33m[\u001b[0m\u001b[1;36m1\u001b[0m\u001b[1;33m]\u001b[0m \u001b[1;33m=\u001b[0m \u001b[1;36m4\u001b[0m\u001b[1;33m\u001b[0m\u001b[1;33m\u001b[0m\u001b[0m\n\u001b[0m",
      "\u001b[1;31mTypeError\u001b[0m: 'tuple' object does not support item assignment"
     ]
    }
   ],
   "source": [
    "a = (3,3)\n",
    "a[1] = 4"
   ]
  },
  {
   "cell_type": "code",
   "execution_count": 59,
   "id": "aa13b05d",
   "metadata": {},
   "outputs": [
    {
     "data": {
      "text/plain": [
       "131"
      ]
     },
     "execution_count": 59,
     "metadata": {},
     "output_type": "execute_result"
    }
   ],
   "source": [
    "height"
   ]
  },
  {
   "cell_type": "code",
   "execution_count": null,
   "id": "e3a9c86d",
   "metadata": {},
   "outputs": [],
   "source": []
  }
 ],
 "metadata": {
  "kernelspec": {
   "display_name": "Python 3",
   "language": "python",
   "name": "python3"
  },
  "language_info": {
   "codemirror_mode": {
    "name": "ipython",
    "version": 3
   },
   "file_extension": ".py",
   "mimetype": "text/x-python",
   "name": "python",
   "nbconvert_exporter": "python",
   "pygments_lexer": "ipython3",
   "version": "3.8.8"
  }
 },
 "nbformat": 4,
 "nbformat_minor": 5
}
