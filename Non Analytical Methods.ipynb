{
 "cells": [
  {
   "cell_type": "code",
   "execution_count": 1,
   "metadata": {
    "collapsed": true
   },
   "outputs": [],
   "source": [
    "import numpy as np    "
   ]
  },
  {
   "cell_type": "code",
   "execution_count": 42,
   "metadata": {},
   "outputs": [],
   "source": [
    "def sgn(x):\n",
    "    if x > 0:\n",
    "        return 1\n",
    "    elif x < 0:\n",
    "        return -1\n",
    "    else:\n",
    "        return 0\n",
    "\n",
    "def dSearch(f,start,end, accuracy):\n",
    "    v=start\n",
    "    sign = sgn(f(v))\n",
    "    order = round(np.log10(abs(start)))\n",
    "    assert np.log10(accuracy) < np.log10(abs(start))\n",
    "    while order > np.log10(accuracy):\n",
    "        while sgn(f(v+10**(order-1))) == sign:\n",
    "            v += 10**(order-1)\n",
    "            if v > end:\n",
    "                raise ValueError(\"No Root Found\")\n",
    "        order -= 1\n",
    "    while sgn(f(v+accuracy)) == sign:\n",
    "        v += accuracy\n",
    "    print(str(v)+\":\", f(v),str(v+accuracy)+\":\", f(v+accuracy))\n",
    "    print(\"So the root is\", v+accuracy/2,\"±\",accuracy/2)"
   ]
  },
  {
   "cell_type": "code",
   "execution_count": 43,
   "metadata": {},
   "outputs": [],
   "source": [
    "f = lambda x: x**5-5*x+3"
   ]
  },
  {
   "cell_type": "code",
   "execution_count": 44,
   "metadata": {},
   "outputs": [
    {
     "name": "stdout",
     "output_type": "stream",
     "text": [
      "1.27: -0.0461630593 1.28: 0.0359738368\n",
      "So the root is 1.275 ± 0.005\n"
     ]
    }
   ],
   "source": [
    "dSearch(f,1,2,0.01)"
   ]
  },
  {
   "cell_type": "code",
   "execution_count": null,
   "metadata": {
    "collapsed": true
   },
   "outputs": [],
   "source": []
  }
 ],
 "metadata": {
  "kernelspec": {
   "display_name": "Python 3",
   "language": "python",
   "name": "python3"
  },
  "language_info": {
   "codemirror_mode": {
    "name": "ipython",
    "version": 3
   },
   "file_extension": ".py",
   "mimetype": "text/x-python",
   "name": "python",
   "nbconvert_exporter": "python",
   "pygments_lexer": "ipython3",
   "version": "3.6.1"
  }
 },
 "nbformat": 4,
 "nbformat_minor": 2
}
