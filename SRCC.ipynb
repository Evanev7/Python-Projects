{
 "cells": [
  {
   "cell_type": "code",
   "execution_count": 1,
   "metadata": {
    "collapsed": true
   },
   "outputs": [],
   "source": [
    "import itertools\n",
    "import numpy as np\n",
    "from matplotlib import pyplot as plt"
   ]
  },
  {
   "cell_type": "code",
   "execution_count": 2,
   "metadata": {
    "collapsed": true
   },
   "outputs": [],
   "source": [
    "values = list(itertools.permutations('1234567'))"
   ]
  },
  {
   "cell_type": "code",
   "execution_count": 3,
   "metadata": {
    "collapsed": true
   },
   "outputs": [],
   "source": [
    "compare = (values[0])"
   ]
  },
  {
   "cell_type": "code",
   "execution_count": 4,
   "metadata": {
    "collapsed": true
   },
   "outputs": [],
   "source": [
    "scores = np.array([sum([(int(compare[j])-int(i[j]))**2 for j in range(len(i))]) for i in values])"
   ]
  },
  {
   "cell_type": "code",
   "execution_count": 17,
   "metadata": {
    "collapsed": true
   },
   "outputs": [],
   "source": [
    "srcc = sorted( 1-6*scores/(7*48))"
   ]
  },
  {
   "cell_type": "code",
   "execution_count": 6,
   "metadata": {
    "collapsed": true
   },
   "outputs": [],
   "source": [
    "x,y=[],[]\n",
    "for t in range(-1000,1001):\n",
    "    x.append(t)\n",
    "    y.append(sum(1 for i in srcc if i>=t/1000)/5040)"
   ]
  },
  {
   "cell_type": "code",
   "execution_count": 71,
   "metadata": {},
   "outputs": [
    {
     "data": {
      "image/png": "[encoded data removed]",
      "text/plain": [
       "<Figure size 432x288 with 1 Axes>"
      ]
     },
     "metadata": {},
     "output_type": "display_data"
    }
   ],
   "source": [
    "plt.plot(x,y)\n",
    "plt.show()"
   ]
  },
  {
   "cell_type": "code",
   "execution_count": 73,
   "metadata": {},
   "outputs": [
    {
     "data": {
      "text/plain": [
       "[-0.96428571428571419,\n",
       " -0.9285714285714286,\n",
       " -0.89285714285714279,\n",
       " -0.85714285714285721,\n",
       " -0.8214285714285714,\n",
       " -0.78571428571428581,\n",
       " -0.75,\n",
       " -0.71428571428571419,\n",
       " -0.6785714285714286,\n",
       " -0.64285714285714279,\n",
       " -0.5,\n",
       " -0.25,\n",
       " 0.0,\n",
       " 0.25,\n",
       " 0.5,\n",
       " 0.75,\n",
       " -0.4285714285714286,\n",
       " -0.1785714285714286,\n",
       " 0.071428571428571397,\n",
       " 0.3214285714285714,\n",
       " 0.5714285714285714,\n",
       " 0.8214285714285714,\n",
       " 1.0,\n",
       " -0.60714285714285721,\n",
       " -0.35714285714285721,\n",
       " -0.10714285714285721,\n",
       " 0.64285714285714279,\n",
       " 0.1428571428571429,\n",
       " 0.3928571428571429,\n",
       " 0.8928571428571429,\n",
       " -0.53571428571428581,\n",
       " -0.28571428571428581,\n",
       " -0.035714285714285809,\n",
       " 0.2142857142857143,\n",
       " 0.4642857142857143,\n",
       " 0.7142857142857143,\n",
       " 0.9642857142857143,\n",
       " 0.035714285714285698,\n",
       " 0.2857142857142857,\n",
       " 0.5357142857142857,\n",
       " 0.7857142857142857,\n",
       " -0.46428571428571419,\n",
       " -0.21428571428571419,\n",
       " 0.1071428571428571,\n",
       " 0.3571428571428571,\n",
       " -0.39285714285714279,\n",
       " -0.14285714285714279,\n",
       " 0.60714285714285721,\n",
       " 0.85714285714285721,\n",
       " -0.5714285714285714,\n",
       " -0.3214285714285714,\n",
       " -0.071428571428571397,\n",
       " 0.1785714285714286,\n",
       " 0.4285714285714286,\n",
       " 0.6785714285714286,\n",
       " 0.9285714285714286,\n",
       " -1.0]"
      ]
     },
     "execution_count": 73,
     "metadata": {},
     "output_type": "execute_result"
    }
   ],
   "source": [
    "list(set(sorted(srcc)))"
   ]
  },
  {
   "cell_type": "code",
   "execution_count": 10,
   "metadata": {},
   "outputs": [
    {
     "data": {
      "text/plain": [
       "0.1"
      ]
     },
     "execution_count": 10,
     "metadata": {},
     "output_type": "execute_result"
    }
   ],
   "source": [
    "sum(1 for i in srcc if i > 15/28)/5040"
   ]
  },
  {
   "cell_type": "code",
   "execution_count": 22,
   "metadata": {},
   "outputs": [
    {
     "data": {
      "text/plain": [
       "0.5714285714285714"
      ]
     },
     "execution_count": 22,
     "metadata": {},
     "output_type": "execute_result"
    }
   ],
   "source": [
    "srcc[-504]"
   ]
  },
  {
   "cell_type": "code",
   "execution_count": null,
   "metadata": {
    "collapsed": true
   },
   "outputs": [],
   "source": []
  }
 ],
 "metadata": {
  "kernelspec": {
   "display_name": "Python 3",
   "language": "python",
   "name": "python3"
  },
  "language_info": {
   "codemirror_mode": {
    "name": "ipython",
    "version": 3
   },
   "file_extension": ".py",
   "mimetype": "text/x-python",
   "name": "python",
   "nbconvert_exporter": "python",
   "pygments_lexer": "ipython3",
   "version": "3.6.1"
  }
 },
 "nbformat": 4,
 "nbformat_minor": 2
}
