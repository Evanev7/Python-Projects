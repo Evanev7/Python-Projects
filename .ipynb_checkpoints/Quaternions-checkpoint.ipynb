{
 "cells": [
  {
   "cell_type": "code",
   "execution_count": 1,
   "metadata": {
    "collapsed": true
   },
   "outputs": [],
   "source": [
    "import pyquaternion as pq\n",
    "from pyquaternion import Quaternion as Q\n",
    "import numpy as np\n",
    "π = np.pi\n",
    "e = np.e"
   ]
  },
  {
   "cell_type": "code",
   "execution_count": 10,
   "metadata": {
    "collapsed": true
   },
   "outputs": [],
   "source": [
    "def qround(q,r):\n",
    "    return Q(round(q[0],r),round(q[1],r),round(q[2],r),round(q[3],r))"
   ]
  },
  {
   "cell_type": "code",
   "execution_count": 2,
   "metadata": {
    "collapsed": true
   },
   "outputs": [],
   "source": [
    "def d(f, x, Δx, params=[]):\n",
    "    check = []\n",
    "    for i in range(4):\n",
    "        print([\"1\",\"i\",\"j\",\"k\"][i]+\" axis\")\n",
    "        ax = [Q(1,0,0,0),Q(0,1,0,0),Q(0,0,1,0),Q(0,0,0,1)][i]\n",
    "        if params == []:\n",
    "            check.append((f(x+ax*Δx)-f(x))/(ax*Δx))\n",
    "        else:\n",
    "            check.append((f(x+ax*Δx, *params)-f(x, *params))/(ax*Δx))\n",
    "            \n",
    "        print(check[-1])\n",
    "    if check[0] == check[1] == check[2] == check[3]:\n",
    "        print(\"Differentiable!\")\n",
    "    return check"
   ]
  },
  {
   "cell_type": "code",
   "execution_count": 53,
   "metadata": {
    "collapsed": true
   },
   "outputs": [],
   "source": [
    "def d2(f,x,Δx):\n",
    "    p,q,r,s = f\n",
    "    a,b,c,d = x[0],x[1],x[2],x[3]\n",
    "    pv,qv,rv,sv=p(a,b,c,d),q(a,b,c,d),r(a,b,c,d),s(a,b,c,d)\n",
    "    if round((p(a+Δx,b,c,d)-pv)/Δx,5) == +round((q(a,b+Δx,c,d)-qv)/Δx,5) == +round((r(a,b,c+Δx,d)-rv)/Δx,5) == +round((s(a,b,c,d+Δx)-sv)/Δx,5):\n",
    "        print(\"First condition met\")\n",
    "    else:\n",
    "        print(round((p(a+Δx,b,c,d)-pv)/Δx,5),+round((q(a,b+Δx,c,d)-qv)/Δx,5), +round((r(a,b,c+Δx,d)-rv)/Δx,5), +round((s(a,b,c,d+Δx)-sv)/Δx,5))\n",
    "    if round((q(a+Δx,b,c,d)-qv)/Δx,5) == -round((p(a,b+Δx,c,d)-pv)/Δx,5) == -round((s(a,b,c+Δx,d)-sv)/Δx,5) == +round((r(a,b,c,d+Δx)-rv)/Δx,5):\n",
    "        print(\"Second condition met\")\n",
    "    else:\n",
    "        print(round((q(a+Δx,b,c,d)-qv)/Δx,5) , -round((p(a,b+Δx,c,d)-pv)/Δx,5) , -round((s(a,b,c+Δx,d)-sv)/Δx,5) , +round((r(a,b,c,d+Δx)-rv)/Δx,5))\n",
    "    if round((r(a+Δx,b,c,d)-rv)/Δx,5) == +round((s(a,b+Δx,c,d)-sv)/Δx,5) == -round((p(a,b,c+Δx,d)-pv)/Δx,5) == -round((q(a,b,c,d+Δx)-qv)/Δx,5):\n",
    "        print(\"Third condition met\")\n",
    "    if round((s(a+Δx,b,c,d)-sv)/Δx,5) == -round((r(a,b+Δx,c,d)-rv)/Δx,5) == +round((q(a,b,c+Δx,d)-qv)/Δx,5) == -round((p(a,b,c,d+Δx)-pv)/Δx,5):\n",
    "        print(\"Fourth condition met\")"
   ]
  },
  {
   "cell_type": "code",
   "execution_count": 3,
   "metadata": {
    "collapsed": true
   },
   "outputs": [],
   "source": [
    "def exp(x, det):\n",
    "    tot = 0\n",
    "    for i in range(det):\n",
    "        tot += x**i/(np.math.factorial(i))\n",
    "    return tot"
   ]
  },
  {
   "cell_type": "code",
   "execution_count": 69,
   "metadata": {
    "collapsed": true
   },
   "outputs": [],
   "source": [
    "def p(a,b,c,d):\n",
    "    return a - b - c - d\n",
    "def q(a,b,c,d):\n",
    "    return b + a - d + c\n",
    "def r(a,b,c,d):\n",
    "    return c + d + a - b\n",
    "def s(a,b,c,d):\n",
    "    return d - c + b + a\n",
    "#f(x)=x*+i(a+b+c-d)+j(a-b+c+d)+k(a+b-c+d)\n",
    "#Re(x) = -1/2(x+x*)\n",
    "#K(x) = -1/2(-kx+x*k)\n",
    "#B(x) = -(-Bx+x*B)/2"
   ]
  },
  {
   "cell_type": "code",
   "execution_count": 70,
   "metadata": {},
   "outputs": [
    {
     "name": "stdout",
     "output_type": "stream",
     "text": [
      "First condition met\n",
      "Second condition met\n",
      "Third condition met\n",
      "Fourth condition met\n"
     ]
    }
   ],
   "source": [
    "d2([p,q,r,s],Q(1,2,3,4),0.00000001)"
   ]
  },
  {
   "cell_type": "code",
   "execution_count": 82,
   "metadata": {
    "collapsed": true
   },
   "outputs": [],
   "source": [
    "def pqrs(x):\n",
    "    qx = x[0],x[1],x[2],x[3]\n",
    "    qx = p(*qx) + Q(0,1,0,0)*q(*qx) + Q(0,0,1,0)*r(*qx) + Q(0,0,0,1)*r(*qx)\n",
    "    print(qx)\n",
    "    return qx"
   ]
  },
  {
   "cell_type": "code",
   "execution_count": 85,
   "metadata": {},
   "outputs": [
    {
     "name": "stdout",
     "output_type": "stream",
     "text": [
      "1 axis\n",
      "-3.900 +4.100i +4.100j +4.100k\n",
      "-4.000 +4.000i +4.000j +4.000k\n",
      "1.000 +1.000i +1.000j +1.000k\n",
      "i axis\n",
      "-4.100 +4.100i +3.900j +3.900k\n",
      "-4.000 +4.000i +4.000j +4.000k\n",
      "1.000 +1.000i +1.000j -1.000k\n",
      "j axis\n",
      "-4.100 +4.100i +4.100j +4.100k\n",
      "-4.000 +4.000i +4.000j +4.000k\n",
      "1.000 +1.000i +1.000j -1.000k\n",
      "k axis\n",
      "-4.100 +3.900i +4.100j +4.100k\n",
      "-4.000 +4.000i +4.000j +4.000k\n",
      "1.000 -1.000i -1.000j +1.000k\n"
     ]
    }
   ],
   "source": [
    "c = d(pqrs, Q(2,2,2,2), 0.1)"
   ]
  },
  {
   "cell_type": "code",
   "execution_count": 38,
   "metadata": {},
   "outputs": [
    {
     "data": {
      "text/plain": [
       "[Quaternion(0.0, 0.99999999999766942, 0.99999999999988987, 0.99999999999988987),\n",
       " Quaternion(0.0, 0.99999999999766942, 0.99999999999988987, 0.99999999999988987),\n",
       " Quaternion(0.0, 0.99999999999988987, 0.99999999999766942, 0.99999999999988987),\n",
       " Quaternion(0.0, 0.99999999999988987, 0.99999999999766942, 0.99999999999766942)]"
      ]
     },
     "execution_count": 38,
     "metadata": {},
     "output_type": "execute_result"
    }
   ],
   "source": [
    "c"
   ]
  },
  {
   "cell_type": "code",
   "execution_count": 131,
   "metadata": {},
   "outputs": [
    {
     "data": {
      "text/plain": [
       "Quaternion(0.9999999999999476, 4.0096952809253351e-15, 4.0096952809253351e-15, 4.0096952809253351e-15)"
      ]
     },
     "execution_count": 131,
     "metadata": {},
     "output_type": "execute_result"
    }
   ],
   "source": [
    "exp(Q(0,2*π/(3**.5),2*π/(3**.5),2*π/(3**.5)),100)"
   ]
  },
  {
   "cell_type": "code",
   "execution_count": null,
   "metadata": {
    "collapsed": true
   },
   "outputs": [],
   "source": []
  }
 ],
 "metadata": {
  "kernelspec": {
   "display_name": "Python 3",
   "language": "python",
   "name": "python3"
  },
  "language_info": {
   "codemirror_mode": {
    "name": "ipython",
    "version": 3
   },
   "file_extension": ".py",
   "mimetype": "text/x-python",
   "name": "python",
   "nbconvert_exporter": "python",
   "pygments_lexer": "ipython3",
   "version": "3.6.1"
  }
 },
 "nbformat": 4,
 "nbformat_minor": 2
}
