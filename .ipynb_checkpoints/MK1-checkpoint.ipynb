{
 "cells": [
  {
   "cell_type": "code",
   "execution_count": 1,
   "metadata": {
    "collapsed": true
   },
   "outputs": [],
   "source": [
    "import numpy as np\n",
    "from matplotlib import pyplot as plt\n",
    "from numba import jit\n",
    "from random import random\n",
    "from scipy.special import expit"
   ]
  },
  {
   "cell_type": "code",
   "execution_count": 83,
   "metadata": {},
   "outputs": [],
   "source": [
    "class networkBaseClass(object):\n",
    "    def __init__(self):\n",
    "        self.size = 1\n",
    "        self.olscores = np.array([])\n",
    "    \n",
    "    \n",
    "    def setNullNetwork(self):\n",
    "        self.network=[]\n",
    "        for i in range(len(self.layersizes)-2):\n",
    "            self.network.append(np.zeros([self.layersizes[i], self.layersizes[i+1]]))\n",
    "            self.network.append(np.zeros([self.layersizes[i+1]]))\n",
    "        self.network.append(np.zeros([self.layersizes[i+1], self.layersizes[i+2]]))\n",
    "    \n",
    "    @jit\n",
    "    def prop(self, val):\n",
    "        for i in range(0,len(self.network)-2,2):\n",
    "            #RelU\n",
    "            #val = np.maximum(0,np.dot(val,self.network[i]) - self.network[i+1])\n",
    "            #-1 to 1 ReLU\n",
    "            #val = np.minimum(1,np.maximum(-1,np.dot(val,self.network[i]) - self.network[i+1]))\n",
    "            #Sigmoid\n",
    "            val = expit(np.dot(val,self.network[i]) - self.network[i+1])\n",
    "        return np.dot(val,self.network[-2])\n",
    "    \n",
    "    @jit\n",
    "    def cost(self, network):\n",
    "        cost = 0\n",
    "        for i in range(len(self.data[0])):\n",
    "            cost += (nnStuff.prop(network, self.data[0][i])-self.data[1][i])**2\n",
    "        return cost    \n",
    "    \n",
    "    \n",
    "    def vecMain(self, size):\n",
    "        types = nnStuff.netToVec([i+len(np.shape(i)) for i in self.network])\n",
    "        score = [self.cost(self.network), None]\n",
    "        self.size = size\n",
    "        vecNet = nnStuff.netToVec(self.network)\n",
    "        for i in range(len(nnStuff.netToVec(self.network))):\n",
    "            vecNet[i] += self.size\n",
    "            c = self.cost(nnStuff.vecToNet(vecNet, self.layersizes))\n",
    "            if c < score[0]:\n",
    "                score = [c, i]\n",
    "            vecNet[i] -= self.size*2\n",
    "            c = self.cost(nnStuff.vecToNet(vecNet, self.layersizes))\n",
    "            if c < score[0]:\n",
    "                score = [c, -i-1]\n",
    "            vecNet[i] += self.size\n",
    "        if score[1] != None:\n",
    "            if vecNet[score[1]] >= 0:\n",
    "                vecNet[score[1]] += self.size\n",
    "            else:\n",
    "                vecNet[-score[1]-1] -= self.size\n",
    "            self.network =  nnStuff.vecToNet(vecNet, self.layersizes)\n",
    "        else:\n",
    "            return False\n",
    "        \n",
    "        #scores = []\n",
    "        #self.size = size\n",
    "        #vectorSpace = nnStuff.netToVec(nnStuff.getNullNetwork(self.layersizes))\n",
    "        #vecNet = nnStuff.netToVec(self.network)\n",
    "        #for i in range(len(nnStuff.netToVec(self.network))):\n",
    "        #    vectorSpace[i] += self.size\n",
    "        #    scores.append((self.cost(nnStuff.vecToNet(vectorSpace+vecNet, self.layersizes)),i))\n",
    "        #    vectorSpace[i] -= self.size * 2\n",
    "        #    scores.append((self.cost(nnStuff.vecToNet(vectorSpace+vecNet, self.layersizes)),-i-1))\n",
    "        #    vectorSpace[i] += self.size\n",
    "        #indexes = []\n",
    "        #tmp = sorted(scores)[0]\n",
    "        #if tmp[1] >= 0:\n",
    "        #    vectorSpace[tmp[1]] += self.size\n",
    "        #else:\n",
    "        #    vectorSpace[-tmp[1]-1] -= self.size\n",
    "        #self.network = nnStuff.vecToNet(vectorSpace + vecNet, self.layersizes)\n",
    "        #return scores\n",
    "    \n",
    "    \n",
    "    def show(self):\n",
    "        fig = plt.figure()\n",
    "        ax = fig.gca()\n",
    "        ax.plot(self.data[0], self.data[1])\n",
    "        ax.plot(self.data[0], list([self.prop([i]).flatten() for i in self.data[0]]))\n",
    "        plt.show()\n",
    "        plt.close(fig)\n",
    "    \n",
    "    \n",
    "    def showData(self, dat):\n",
    "        fig = plt.figure()\n",
    "        ax = fig.gca()\n",
    "        if max(dat) >= max(self.data[0]) and min(dat) <= min(self.data[0]):\n",
    "            ax.plot(self.data[0], self.data[1])\n",
    "        ax.plot(dat, list([self.prop(i).flatten() for i in dat]))\n",
    "        plt.show()\n",
    "        plt.close(fig)\n",
    "    \n",
    "class nnStuff:\n",
    "    @jit\n",
    "    def prop(network, val):\n",
    "        for i in range(0,len(network)-2,2):\n",
    "                #val = np.maximum(0,np.dot(val,network[i]) - network[i+1])\n",
    "                val = expit(np.dot(val,network[i]) - network[i+1])\n",
    "        return np.dot(val,network[-2])\n",
    "    \n",
    "    \n",
    "    def getNullNetwork(layersizes):\n",
    "        nn=[]\n",
    "        for i in range(len(layersizes)-2):\n",
    "            nn.append(np.zeros([layersizes[i], layersizes[i+1]]))\n",
    "            nn.append(np.zeros([layersizes[i+1]]))\n",
    "        nn.append(np.zeros([layersizes[i+1], layersizes[i+2]]))\n",
    "        return nn\n",
    "    \n",
    "    @jit\n",
    "    def netToVec(network):\n",
    "        vec = np.array([])\n",
    "        for i in network:\n",
    "            vec = np.append(vec, i.flatten())\n",
    "        return vec\n",
    "\n",
    "    \n",
    "    def vecToNet(vec, layersizes):\n",
    "        index = 0\n",
    "        network = nnStuff.getNullNetwork(layersizes)\n",
    "        for i in range(len(layersizes)-2):\n",
    "            for j in range(layersizes[i]):\n",
    "                for k in range(layersizes[i+1]):\n",
    "                    network[2*i][j][k] = vec[index]\n",
    "                    index += 1\n",
    "            for j in range(layersizes[i+1]):\n",
    "                network[2*i+1][j] = vec[index]\n",
    "                index += 1\n",
    "        for j in range(layersizes[i+1]):\n",
    "            for k in range(layersizes[i+2]):\n",
    "                network[2*i+2][j][k] = vec[index]\n",
    "                index += 1\n",
    "        return network\n",
    "    \n",
    "    def randomize(network, layersizes):\n",
    "        net = nnStuff.netToVec(network)\n",
    "        rand = np.random.randint(-100,100,len(net))/100\n",
    "        return nnStuff.vecToNet(net+rand, layersizes)"
   ]
  },
  {
   "cell_type": "code",
   "execution_count": 84,
   "metadata": {},
   "outputs": [],
   "source": [
    "class sineBot(networkBaseClass):\n",
    "    layersizes = [1,10,10,1]\n",
    "    inp = [i/20 for i in range(0,21)]\n",
    "    outp = [np.sin(i*2*np.pi)**2 for i in inp]\n",
    "    data = [[i for i in inp],[i for i in outp]]\n",
    "    transData = [i for i in zip(*data)]\n",
    "    \n",
    "    def __init__(self):\n",
    "        super(sineBot, self).setNullNetwork()\n",
    "        super(sineBot, self).__init__()"
   ]
  },
  {
   "cell_type": "code",
   "execution_count": 85,
   "metadata": {
    "collapsed": true
   },
   "outputs": [],
   "source": [
    "s = sineBot()"
   ]
  },
  {
   "cell_type": "code",
   "execution_count": 86,
   "metadata": {},
   "outputs": [],
   "source": [
    "s.network = nnStuff.vecToNet(np.random.rand(len(nnStuff.netToVec(s.network))), s.layersizes)"
   ]
  },
  {
   "cell_type": "code",
   "execution_count": 87,
   "metadata": {
    "scrolled": true
   },
   "outputs": [
    {
     "name": "stdout",
     "output_type": "stream",
     "text": [
      "0\n",
      "10\n",
      "20\n",
      "30\n",
      "40\n",
      "50\n",
      "60\n",
      "70\n",
      "80\n",
      "90\n",
      "100\n"
     ]
    }
   ],
   "source": [
    "for i in range(101):\n",
    "    a=s.vecMain(.1)\n",
    "    if a == False:\n",
    "        print(\":(\")\n",
    "    if i*10 % 100 == 0:\n",
    "        print(i)"
   ]
  },
  {
   "cell_type": "code",
   "execution_count": 88,
   "metadata": {},
   "outputs": [
    {
     "data": {
      "image/png": "[encoded data removed]",
      "text/plain": [
       "<matplotlib.figure.Figure at 0x1f7f33ee3c8>"
      ]
     },
     "metadata": {},
     "output_type": "display_data"
    }
   ],
   "source": [
    "s.show()"
   ]
  },
  {
   "cell_type": "code",
   "execution_count": 89,
   "metadata": {
    "scrolled": true
   },
   "outputs": [
    {
     "data": {
      "text/plain": [
       "[array([[ 0.86204822,  0.94929268,  0.20616084,  0.54506596,  0.41168064,\n",
       "          0.16221131,  0.39348428,  0.55128235,  0.19404264,  0.22821354]]),\n",
       " array([  0.75742052,   0.73934184,   0.64068703,   0.80506097,\n",
       "          0.98553188,   0.88487325,   0.52089089,   0.41779197,\n",
       "         10.46346273,   0.59831193]),\n",
       " array([[ 0.22927045,  0.91341568,  0.43027467,  0.67633799,  0.70201205,\n",
       "          0.01430568,  0.31650128,  0.23043914,  0.67376884,  0.85789716],\n",
       "        [ 0.85132871,  0.1181484 ,  0.98583329,  0.82669664,  0.21447054,\n",
       "          0.70393786,  0.25526248,  0.07743864,  0.01174747,  0.22825516],\n",
       "        [ 0.46189644,  0.43572438,  0.91680017,  0.2774008 ,  0.9909714 ,\n",
       "          0.63610117,  0.14838332,  0.91237272,  0.13717379,  0.31858531],\n",
       "        [ 0.39180317,  0.8847242 ,  0.75146881,  0.74448547,  0.56364561,\n",
       "          0.82626568,  0.44726636,  0.92373477,  0.86657493,  0.38981874],\n",
       "        [ 0.39346193,  0.75895114,  0.92102336,  0.78610891,  0.88906775,\n",
       "          0.54225307,  0.5472428 ,  0.91393957,  0.66245727,  0.36907513],\n",
       "        [ 0.30691237,  0.30574678,  0.76061066,  0.20306378,  0.76406869,\n",
       "          0.01606659,  0.51755923,  0.2176271 ,  0.96417613,  0.850111  ],\n",
       "        [ 0.59425124,  0.71679583,  0.2050058 ,  0.93308392,  0.58115294,\n",
       "          0.6312537 ,  0.21349561,  0.63449304,  0.9386317 ,  0.28609846],\n",
       "        [ 0.03918645,  0.24076239,  0.09384486,  0.49582329,  0.08728662,\n",
       "          0.77504491,  0.8031136 ,  0.68553366,  0.35188122,  0.09928857],\n",
       "        [ 0.54271151,  0.81420834,  0.07884255,  0.29279015,  0.32460215,\n",
       "          0.45615516,  0.59186129,  0.36856253,  0.32468749,  0.34704606],\n",
       "        [ 0.65311447,  0.62292145,  0.37800729,  0.08865571,  0.53567272,\n",
       "          0.47421809,  0.19853923,  0.85947192,  0.28828759,  0.8691    ]]),\n",
       " array([ 0.12312326,  0.00968752,  0.34288579,  0.32089329,  0.11861481,\n",
       "         0.95226049,  0.42750167,  0.7138772 ,  0.27535922,  0.71325414]),\n",
       " array([[ 0.42801784],\n",
       "        [ 0.9503724 ],\n",
       "        [ 0.99317988],\n",
       "        [ 0.95456904],\n",
       "        [ 0.02954657],\n",
       "        [ 0.82857016],\n",
       "        [ 0.51814434],\n",
       "        [ 0.04929468],\n",
       "        [ 0.0724785 ],\n",
       "        [ 0.05284102]])]"
      ]
     },
     "execution_count": 89,
     "metadata": {},
     "output_type": "execute_result"
    }
   ],
   "source": [
    "s.network"
   ]
  },
  {
   "cell_type": "code",
   "execution_count": null,
   "metadata": {
    "collapsed": true
   },
   "outputs": [],
   "source": []
  }
 ],
 "metadata": {
  "kernelspec": {
   "display_name": "Python 3",
   "language": "python",
   "name": "python3"
  },
  "language_info": {
   "codemirror_mode": {
    "name": "ipython",
    "version": 3
   },
   "file_extension": ".py",
   "mimetype": "text/x-python",
   "name": "python",
   "nbconvert_exporter": "python",
   "pygments_lexer": "ipython3",
   "version": "3.6.1"
  }
 },
 "nbformat": 4,
 "nbformat_minor": 2
}
