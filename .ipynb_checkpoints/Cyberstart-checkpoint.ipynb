{
 "cells": [
  {
   "cell_type": "code",
   "execution_count": 3,
   "metadata": {},
   "outputs": [
    {
     "data": {
      "text/plain": [
       "'var _0x7e03=[\"many\",\"large\",\"small\",\"wobbly\",\"colorful\",\"jellybeans\",\"getElementById\",\"document\",\"Msxml3.XMLHTTP\",\"Msxml2.XMLHTTP.6.0\",\"Msxml2.XMLHTTP.3.0\",\"Msxml2.XMLHTTP\",\"Microsoft.XMLHTTP\",\"`\",\"indexOf\",\"\\'\",\" OR \",\" or \",\"substr\",\"1=1\",\"\",\"replace\",\"$1\",\"!\",\"!=\",\"==\",\"toLowerCase\",\" \",\" please!\",\"onreadystatechange\",\"readyState\",\"status\",\"responseText\",\"parse\",\"result\",\"attempt\",\"correct\",\"display\",\"style\",\"extraRow.1\",\"extraRow.2\",\"extraRow.3\",\"table-row\",\"innerHTML\",\"extraRow.1.name\",\"extraRow.2.name\",\"extraRow.3.name\",\"code\",\"POST\",\"/challenges\",\"/0805/search\",\"open\",\"Content-type\",\"application/x-www-form-urlencoded\",\"setRequestHeader\",\"search=\",\"&csrf=\",\"send\"];f4h938y3= _0x7e03[0];r3rh9o8y= [_0x7e03[1],_0x7e03[2],_0x7e03[3],_0x7e03[0],_0x7e03[4]];dfj3988yh= _0x7e03[5];var get=function(_0xc96ex2){return top[_0x7e03[7]][_0x7e03[6]](_0xc96ex2)};var xhrObj=function(){try{return  new XMLHttpRequest()}catch(e){};try{return  new ActiveXObject(_0x7e03[8])}catch(e){};try{return  new ActiveXObject(_0x7e03[9])}catch(e){};try{return  new ActiveXObject(_0x7e03[10])}catch(e){};try{return  new ActiveXObject(_0x7e03[11])}catch(e){};try{return  new ActiveXObject(_0x7e03[12])}catch(e){};return null};var doSearch=function(_0xc96ex5){var _0xc96ex6=_0xc96ex5[_0x7e03[14]](_0x7e03[13]);if(_0xc96ex6==  -1){var _0xc96ex6=_0xc96ex5[_0x7e03[14]](_0x7e03[15])};var _0xc96ex7=_0xc96ex5[_0x7e03[14]](_0x7e03[16]);if(_0xc96ex7==  -1){var _0xc96ex7=_0xc96ex5[_0x7e03[14]](_0x7e03[17])};var _0xc96ex8=_0xc96ex5[_0x7e03[18]](_0xc96ex7+ 4);if(_0xc96ex6> -1&& _0xc96ex7> _0xc96ex6&& _0xc96ex8!= _0x7e03[19]){_0xc96ex8= _0xc96ex8[_0x7e03[26]]()[_0x7e03[21]](/\\\\=|is/g,_0x7e03[25])[_0x7e03[21]](/\\\\<\\\\>/g,_0x7e03[24])[_0x7e03[21]](/not/g,_0x7e03[23])[_0x7e03[21]](/\\\\‘|\\\\’/g,_0x7e03[15])[_0x7e03[21]](/\\'?(\\\\d)\\'?/g,_0x7e03[22])[_0x7e03[21]](/--/g,_0x7e03[20]);(function(){if(eval(_0xc96ex8)){r334h9o8y9= f4h938y3+ _0x7e03[27]+ r3rh9o8y[3]+ _0x7e03[27]+ dfj3988yh+ _0x7e03[28];sendSearch(r334h9o8y9)}else {noResults()}})()}else {noResults()}};var sendSearch=function(_0xc96ex5){var _0xc96exa=xhrObj();_0xc96exa[_0x7e03[29]]= function(){if(_0xc96exa[_0x7e03[30]]== 4&& _0xc96exa[_0x7e03[31]]== 200){var _0xc96exb=_0xc96exa[_0x7e03[32]];var _0xc96exc=JSON[_0x7e03[33]](_0xc96exb);if(_0xc96exc[_0x7e03[35]][_0x7e03[34]]== _0x7e03[36]){get(_0x7e03[39])[_0x7e03[38]][_0x7e03[37]]= get(_0x7e03[40])[_0x7e03[38]][_0x7e03[37]]= get(_0x7e03[41])[_0x7e03[38]][_0x7e03[37]]= _0x7e03[42];get(_0x7e03[44])[_0x7e03[43]]= get(_0x7e03[45])[_0x7e03[43]]= get(_0x7e03[46])[_0x7e03[43]]= _0xc96exc[_0x7e03[35]][_0x7e03[47]]}else {noResults()}}};_0xc96exa[_0x7e03[51]](_0x7e03[48],_0x7e03[49]+ base+ _0x7e03[50],true);_0xc96exa[_0x7e03[54]](_0x7e03[52],_0x7e03[53]);_0xc96exa[_0x7e03[57]](_0x7e03[55]+ encodeURIComponent(_0xc96ex5)+ _0x7e03[56]+ csrf)};var noResults=function(){}'"
      ]
     },
     "execution_count": 3,
     "metadata": {},
     "output_type": "execute_result"
    }
   ],
   "source": [
    "var=[\"\\x6D\\x61\\x6E\\x79\",\"\\x6C\\x61\\x72\\x67\\x65\",\"\\x73\\x6D\\x61\\x6C\\x6C\",\"\\x77\\x6F\\x62\\x62\\x6C\\x79\",\"\\x63\\x6F\\x6C\\x6F\\x72\\x66\\x75\\x6C\",\"\\x6A\\x65\\x6C\\x6C\\x79\\x62\\x65\\x61\\x6E\\x73\",\"\\x67\\x65\\x74\\x45\\x6C\\x65\\x6D\\x65\\x6E\\x74\\x42\\x79\\x49\\x64\",\"\\x64\\x6F\\x63\\x75\\x6D\\x65\\x6E\\x74\",\"\\x4D\\x73\\x78\\x6D\\x6C\\x33\\x2E\\x58\\x4D\\x4C\\x48\\x54\\x54\\x50\",\"\\x4D\\x73\\x78\\x6D\\x6C\\x32\\x2E\\x58\\x4D\\x4C\\x48\\x54\\x54\\x50\\x2E\\x36\\x2E\\x30\",\"\\x4D\\x73\\x78\\x6D\\x6C\\x32\\x2E\\x58\\x4D\\x4C\\x48\\x54\\x54\\x50\\x2E\\x33\\x2E\\x30\",\"\\x4D\\x73\\x78\\x6D\\x6C\\x32\\x2E\\x58\\x4D\\x4C\\x48\\x54\\x54\\x50\",\"\\x4D\\x69\\x63\\x72\\x6F\\x73\\x6F\\x66\\x74\\x2E\\x58\\x4D\\x4C\\x48\\x54\\x54\\x50\",\"\\x60\",\"\\x69\\x6E\\x64\\x65\\x78\\x4F\\x66\",\"\\x27\",\"\\x20\\x4F\\x52\\x20\",\"\\x20\\x6F\\x72\\x20\",\"\\x73\\x75\\x62\\x73\\x74\\x72\",\"\\x31\\x3D\\x31\",\"\",\"\\x72\\x65\\x70\\x6C\\x61\\x63\\x65\",\"\\x24\\x31\",\"\\x21\",\"\\x21\\x3D\",\"\\x3D\\x3D\",\"\\x74\\x6F\\x4C\\x6F\\x77\\x65\\x72\\x43\\x61\\x73\\x65\",\"\\x20\",\"\\x20\\x70\\x6C\\x65\\x61\\x73\\x65\\x21\",\"\\x6F\\x6E\\x72\\x65\\x61\\x64\\x79\\x73\\x74\\x61\\x74\\x65\\x63\\x68\\x61\\x6E\\x67\\x65\",\"\\x72\\x65\\x61\\x64\\x79\\x53\\x74\\x61\\x74\\x65\",\"\\x73\\x74\\x61\\x74\\x75\\x73\",\"\\x72\\x65\\x73\\x70\\x6F\\x6E\\x73\\x65\\x54\\x65\\x78\\x74\",\"\\x70\\x61\\x72\\x73\\x65\",\"\\x72\\x65\\x73\\x75\\x6C\\x74\",\"\\x61\\x74\\x74\\x65\\x6D\\x70\\x74\",\"\\x63\\x6F\\x72\\x72\\x65\\x63\\x74\",\"\\x64\\x69\\x73\\x70\\x6C\\x61\\x79\",\"\\x73\\x74\\x79\\x6C\\x65\",\"\\x65\\x78\\x74\\x72\\x61\\x52\\x6F\\x77\\x2E\\x31\",\"\\x65\\x78\\x74\\x72\\x61\\x52\\x6F\\x77\\x2E\\x32\",\"\\x65\\x78\\x74\\x72\\x61\\x52\\x6F\\x77\\x2E\\x33\",\"\\x74\\x61\\x62\\x6C\\x65\\x2D\\x72\\x6F\\x77\",\"\\x69\\x6E\\x6E\\x65\\x72\\x48\\x54\\x4D\\x4C\",\"\\x65\\x78\\x74\\x72\\x61\\x52\\x6F\\x77\\x2E\\x31\\x2E\\x6E\\x61\\x6D\\x65\",\"\\x65\\x78\\x74\\x72\\x61\\x52\\x6F\\x77\\x2E\\x32\\x2E\\x6E\\x61\\x6D\\x65\",\"\\x65\\x78\\x74\\x72\\x61\\x52\\x6F\\x77\\x2E\\x33\\x2E\\x6E\\x61\\x6D\\x65\",\"\\x63\\x6F\\x64\\x65\",\"\\x50\\x4F\\x53\\x54\",\"\\x2F\\x63\\x68\\x61\\x6C\\x6C\\x65\\x6E\\x67\\x65\\x73\",\"\\x2F\\x30\\x38\\x30\\x35\\x2F\\x73\\x65\\x61\\x72\\x63\\x68\",\"\\x6F\\x70\\x65\\x6E\",\"\\x43\\x6F\\x6E\\x74\\x65\\x6E\\x74\\x2D\\x74\\x79\\x70\\x65\",\"\\x61\\x70\\x70\\x6C\\x69\\x63\\x61\\x74\\x69\\x6F\\x6E\\x2F\\x78\\x2D\\x77\\x77\\x77\\x2D\\x66\\x6F\\x72\\x6D\\x2D\\x75\\x72\\x6C\\x65\\x6E\\x63\\x6F\\x64\\x65\\x64\",\"\\x73\\x65\\x74\\x52\\x65\\x71\\x75\\x65\\x73\\x74\\x48\\x65\\x61\\x64\\x65\\x72\",\"\\x73\\x65\\x61\\x72\\x63\\x68\\x3D\",\"\\x26\\x63\\x73\\x72\\x66\\x3D\",\"\\x73\\x65\\x6E\\x64\"]\n",
    "dat = \"\"\";f4h938y3= _0x7e03[0];r3rh9o8y= [_0x7e03[1],_0x7e03[2],_0x7e03[3],_0x7e03[0],_0x7e03[4]];dfj3988yh= _0x7e03[5];var get=function(_0xc96ex2){return top[_0x7e03[7]][_0x7e03[6]](_0xc96ex2)};var xhrObj=function(){try{return  new XMLHttpRequest()}catch(e){};try{return  new ActiveXObject(_0x7e03[8])}catch(e){};try{return  new ActiveXObject(_0x7e03[9])}catch(e){};try{return  new ActiveXObject(_0x7e03[10])}catch(e){};try{return  new ActiveXObject(_0x7e03[11])}catch(e){};try{return  new ActiveXObject(_0x7e03[12])}catch(e){};return null};var doSearch=function(_0xc96ex5){var _0xc96ex6=_0xc96ex5[_0x7e03[14]](_0x7e03[13]);if(_0xc96ex6==  -1){var _0xc96ex6=_0xc96ex5[_0x7e03[14]](_0x7e03[15])};var _0xc96ex7=_0xc96ex5[_0x7e03[14]](_0x7e03[16]);if(_0xc96ex7==  -1){var _0xc96ex7=_0xc96ex5[_0x7e03[14]](_0x7e03[17])};var _0xc96ex8=_0xc96ex5[_0x7e03[18]](_0xc96ex7+ 4);if(_0xc96ex6> -1&& _0xc96ex7> _0xc96ex6&& _0xc96ex8!= _0x7e03[19]){_0xc96ex8= _0xc96ex8[_0x7e03[26]]()[_0x7e03[21]](/\\=|is/g,_0x7e03[25])[_0x7e03[21]](/\\<\\>/g,_0x7e03[24])[_0x7e03[21]](/not/g,_0x7e03[23])[_0x7e03[21]](/\\‘|\\’/g,_0x7e03[15])[_0x7e03[21]](/'?(\\d)'?/g,_0x7e03[22])[_0x7e03[21]](/--/g,_0x7e03[20]);(function(){if(eval(_0xc96ex8)){r334h9o8y9= f4h938y3+ _0x7e03[27]+ r3rh9o8y[3]+ _0x7e03[27]+ dfj3988yh+ _0x7e03[28];sendSearch(r334h9o8y9)}else {noResults()}})()}else {noResults()}};var sendSearch=function(_0xc96ex5){var _0xc96exa=xhrObj();_0xc96exa[_0x7e03[29]]= function(){if(_0xc96exa[_0x7e03[30]]== 4&& _0xc96exa[_0x7e03[31]]== 200){var _0xc96exb=_0xc96exa[_0x7e03[32]];var _0xc96exc=JSON[_0x7e03[33]](_0xc96exb);if(_0xc96exc[_0x7e03[35]][_0x7e03[34]]== _0x7e03[36]){get(_0x7e03[39])[_0x7e03[38]][_0x7e03[37]]= get(_0x7e03[40])[_0x7e03[38]][_0x7e03[37]]= get(_0x7e03[41])[_0x7e03[38]][_0x7e03[37]]= _0x7e03[42];get(_0x7e03[44])[_0x7e03[43]]= get(_0x7e03[45])[_0x7e03[43]]= get(_0x7e03[46])[_0x7e03[43]]= _0xc96exc[_0x7e03[35]][_0x7e03[47]]}else {noResults()}}};_0xc96exa[_0x7e03[51]](_0x7e03[48],_0x7e03[49]+ base+ _0x7e03[50],true);_0xc96exa[_0x7e03[54]](_0x7e03[52],_0x7e03[53]);_0xc96exa[_0x7e03[57]](_0x7e03[55]+ encodeURIComponent(_0xc96ex5)+ _0x7e03[56]+ csrf)};var noResults=function(){}\"\"\""
   ]
  },
  {
   "cell_type": "code",
   "execution_count": null,
   "metadata": {
    "collapsed": true
   },
   "outputs": [],
   "source": [
    "dat.replace(\"_0x7e03\", \"var\")"
   ]
  },
  {
   "cell_type": "code",
   "execution_count": null,
   "metadata": {
    "collapsed": true
   },
   "outputs": [],
   "source": []
  }
 ],
 "metadata": {
  "kernelspec": {
   "display_name": "Python 3",
   "language": "python",
   "name": "python3"
  },
  "language_info": {
   "codemirror_mode": {
    "name": "ipython",
    "version": 3
   },
   "file_extension": ".py",
   "mimetype": "text/x-python",
   "name": "python",
   "nbconvert_exporter": "python",
   "pygments_lexer": "ipython3",
   "version": "3.6.1"
  }
 },
 "nbformat": 4,
 "nbformat_minor": 2
}
