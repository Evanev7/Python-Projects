{
 "cells": [
  {
   "cell_type": "code",
   "execution_count": 2,
   "metadata": {
    "collapsed": true
   },
   "outputs": [],
   "source": [
    "import numpy as np\n",
    "from matplotlib import pyplot as plt\n",
    "from matplotlib import animation, rc\n",
    "from IPython.display import HTML\n",
    "from mpl_toolkits.mplot3d import Axes3D\n",
    "from time import time\n",
    "from numba import jit"
   ]
  },
  {
   "cell_type": "code",
   "execution_count": 3,
   "metadata": {
    "collapsed": true
   },
   "outputs": [],
   "source": [
    "\n",
    "def getcuub(eq, area, resolution):\n",
    "    x,y,z,w = [[]],[[]],[[]],[[]]\n",
    "    xap, yap, zap, wap = x[0].extend, y[0].extend, z[0].extend, w[0].extend\n",
    "    edge = [area[0][0] + i*(area[1][0]-area[0][0])/resolution for i in range(resolution)]\n",
    "    zeros = [[area[0][0] for i in range(resolution)],[area[1][0] for i in range(resolution)]]\n",
    "    for p in range(2):\n",
    "        for q in range(2):\n",
    "            for r in range(2):\n",
    "                xap(edge)\n",
    "                yap(zeros[p])\n",
    "                wap(zeros[q])\n",
    "                zap(zeros[r])\n",
    "                yap(edge)\n",
    "                xap(zeros[p])\n",
    "                wap(zeros[q])\n",
    "                zap(zeros[r])\n",
    "                zap(edge)\n",
    "                yap(zeros[p])\n",
    "                wap(zeros[q])\n",
    "                xap(zeros[r])\n",
    "                wap(edge)\n",
    "                yap(zeros[p])\n",
    "                xap(zeros[q])\n",
    "                zap(zeros[r])\n",
    "    return x,y,z,w\n",
    "\n",
    "@jit\n",
    "def getpoints(eq, area, resolution):\n",
    "    x,y,z,w = [[]],[[]],[[]],[[]]\n",
    "    xap, yap, zap, wap = x[0].append, y[0].append, z[0].append, w[0].append\n",
    "    n = area[0][0]\n",
    "    while n < area[1][0]:\n",
    "        n += ( area[1][0] - area[0][0] )/ resolution\n",
    "        m = area[0][1]\n",
    "        while m < area[1][1]:\n",
    "                m += ( area[1][1] - area[0][1] ) / resolution\n",
    "                Z = complex(n,m)\n",
    "                p=0\n",
    "                for e in range(len(eq)):\n",
    "                    p+=eq[e] * (Z**e)\n",
    "                #p = np.cos(Z)\n",
    "                xap(Z.real)\n",
    "                yap(Z.imag)\n",
    "                zap(p.real)\n",
    "                wap(p.imag)\n",
    "    return x,y,z,w\n",
    "\n",
    "@jit\n",
    "def rotate(x,y,z,w,rotres, mat):\n",
    "    for i in range(rotres):\n",
    "        vec = np.array(np.c_[x[-1],y[-1],z[-1],w[-1]])\n",
    "        vecdot = np.dot(vec,mat)\n",
    "        x.append(list(vecdot[:,0].A1))\n",
    "        y.append(list(vecdot[:,1].A1))\n",
    "        z.append(list(vecdot[:,2].A1))\n",
    "        w.append(list(vecdot[:,3].A1))\n",
    "        yield x,y,z,w"
   ]
  },
  {
   "cell_type": "code",
   "execution_count": 9,
   "metadata": {
    "collapsed": true
   },
   "outputs": [],
   "source": [
    "@jit\n",
    "def update(i, scat, Gs, operations):\n",
    "        for i in Gs:\n",
    "            x,y,z,w = i\n",
    "        if i*5 % operations == 0 and i != 0:\n",
    "            print(str(i*100/operations)+\"% Complete\")\n",
    "        scat._offsets3d = (x[i], y[i], z[i])\n",
    "        scat.set_array(np.array(w[i]))\n",
    "        return scat,\n",
    "\n",
    "    \n",
    "def draw(eq, area = [[-1,-1],[1,1]], resolution = 100, rotres = 100):\n",
    "    \n",
    "    l = .5\n",
    "    mats = (np.matrix([[np.cos(np.pi/(rotres*l)),-np.sin(np.pi/(rotres*l)),0,0],\n",
    "                       [np.sin(np.pi/(rotres*l)), np.cos(np.pi/(rotres*l)),0,0],\n",
    "                       [0, 0, np.cos(np.pi/(rotres*l)),-np.sin(np.pi/(rotres*l))],\n",
    "                       [0, 0, np.sin(np.pi/(rotres*l)), np.cos(np.pi/(rotres*l))]]),\n",
    "           np.matrix([[np.cos(np.pi/(rotres*l)),-np.sin(np.pi/(rotres*l)),0,0],\n",
    "                       [np.sin(np.pi/(rotres*l)), np.cos(np.pi/(rotres*l)),0,0],\n",
    "                       [0, 0, np.cos(np.pi/(rotres*l)),-np.sin(np.pi/(rotres*l))],\n",
    "                       [0, 0, np.sin(np.pi/(rotres*l)), np.cos(np.pi/(rotres*l))]]),\n",
    "           np.matrix([[np.cos(np.pi/(rotres*l)),-np.sin(np.pi/(rotres*l)),0,0],\n",
    "                       [np.sin(np.pi/(rotres*l)), np.cos(np.pi/(rotres*l)),0,0],\n",
    "                       [0, 0, np.cos(np.pi/(rotres*l)),-np.sin(np.pi/(rotres*l))],\n",
    "                       [0, 0, np.sin(np.pi/(rotres*l)), np.cos(np.pi/(rotres*l))]]),\n",
    "           np.matrix([[np.cos(np.pi/(rotres*l)),-np.sin(np.pi/(rotres*l)),0,0],\n",
    "                       [np.sin(np.pi/(rotres*l)), np.cos(np.pi/(rotres*l)),0,0],\n",
    "                       [0, 0, np.cos(np.pi/(rotres*l)),-np.sin(np.pi/(rotres*l))],\n",
    "                       [0, 0, np.sin(np.pi/(rotres*l)), np.cos(np.pi/(rotres*l))]]),\n",
    "           np.matrix([[np.cos(np.pi/(rotres*l)),-np.sin(np.pi/(rotres*l)),0,0],\n",
    "                       [np.sin(np.pi/(rotres*l)), np.cos(np.pi/(rotres*l)),0,0],\n",
    "                       [0, 0, np.cos(np.pi/(rotres*l)),-np.sin(np.pi/(rotres*l))],\n",
    "                       [0, 0, np.sin(np.pi/(rotres*l)), np.cos(np.pi/(rotres*l))]]),)\n",
    "    \n",
    "    x,y,z,w = getcuub(eq, area, resolution)\n",
    "    Gs = []\n",
    "    \n",
    "    for i in mats:\n",
    "        Gs.append(rotate(x,y,z,w, rotres, i))\n",
    "        \n",
    "    rc('animation', html='html5')\n",
    "    fig = plt.figure(figsize = [15,10])\n",
    "    ax = fig.gca(projection = '3d')\n",
    "    ax.set_xlabel(\"Re(Z)\")\n",
    "    ax.set_ylabel(\"Im(Z)\")\n",
    "    scat = ax.scatter([],[],[])\n",
    "    ax.set_xlim([min(np.array(x).flatten()),max(np.array(x).flatten())])\n",
    "    ax.set_ylim([min(np.array(y).flatten()),max(np.array(y).flatten())])\n",
    "    ax.set_zlim([min(np.array(z).flatten()),max(np.array(z).flatten())])\n",
    "    \n",
    "    return animation.FuncAnimation(fig, update, frames=rotres*len(mats), fargs=(scat, Gs, len(mats)*rotres), blit = True)"
   ]
  },
  {
   "cell_type": "code",
   "execution_count": 10,
   "metadata": {
    "collapsed": true,
    "scrolled": false
   },
   "outputs": [],
   "source": [
    "ani = draw([0,0,1], [[0,0],[1,1]], 100, 100)"
   ]
  },
  {
   "cell_type": "code",
   "execution_count": 22,
   "metadata": {},
   "outputs": [
    {
     "name": "stdout",
     "output_type": "stream",
     "text": [
      "20.0% Complete\n",
      "40.0% Complete\n",
      "60.0% Complete\n",
      "80.0% Complete\n"
     ]
    }
   ],
   "source": [
    "ani.save(\"cuub6.mp4\", fps=60, dpi=150, extra_args=['-vcodec', 'libx264'])"
   ]
  },
  {
   "cell_type": "code",
   "execution_count": null,
   "metadata": {
    "collapsed": true
   },
   "outputs": [],
   "source": []
  }
 ],
 "metadata": {
  "kernelspec": {
   "display_name": "Python 3",
   "language": "python",
   "name": "python3"
  },
  "language_info": {
   "codemirror_mode": {
    "name": "ipython",
    "version": 3
   },
   "file_extension": ".py",
   "mimetype": "text/x-python",
   "name": "python",
   "nbconvert_exporter": "python",
   "pygments_lexer": "ipython3",
   "version": "3.6.1"
  }
 },
 "nbformat": 4,
 "nbformat_minor": 2
}
