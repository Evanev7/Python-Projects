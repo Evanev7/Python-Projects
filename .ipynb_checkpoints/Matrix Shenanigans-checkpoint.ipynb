{
 "cells": [
  {
   "cell_type": "code",
   "execution_count": 1,
   "metadata": {
    "collapsed": true
   },
   "outputs": [],
   "source": [
    "import numpy as np\n",
    "from matplotlib.pyplot import plot\n",
    "%matplotlib inline\n",
    "from time import time\n",
    "from random import random\n",
    "import mpmath"
   ]
  },
  {
   "cell_type": "code",
   "execution_count": 1,
   "metadata": {},
   "outputs": [
    {
     "name": "stdout",
     "output_type": "stream",
     "text": [
      " > 45\n",
      "30\n",
      "Player wins\n"
     ]
    }
   ],
   "source": [
    "from random import randint as rnd\n",
    "pmove, level = int(input(\" > \")), 125\n",
    "cmove = rnd(0, level-1)\n",
    "print(cmove)\n",
    "if cmove-pmove == 0: print(\"Tie\")\n",
    "elif ((cmove-pmove)%level)>(level/2): print(\"Player wins\")\n",
    "elif ((cmove-pmove)%level)<(level/2): print(\"Computer wins\")\n",
    "else: print(\"Equal and opposite cancel! Mirror tie\")"
   ]
  },
  {
   "cell_type": "code",
   "execution_count": 2,
   "metadata": {
    "collapsed": true
   },
   "outputs": [],
   "source": [
    "m = np.matrix([[1,2],[3,4]])"
   ]
  },
  {
   "cell_type": "code",
   "execution_count": 3,
   "metadata": {
    "collapsed": true
   },
   "outputs": [],
   "source": [
    "def eigenValues(matrix):\n",
    "    a,b,c,d = matrix.A1\n",
    "    e1 = ((a+d)+(4*c*b+(a-d)**2)**0.5)/2\n",
    "    e2 = ((a+d)-(4*c*b+(a-d)**2)**0.5)/2\n",
    "    return e1, e2"
   ]
  },
  {
   "cell_type": "code",
   "execution_count": 4,
   "metadata": {
    "collapsed": true
   },
   "outputs": [],
   "source": [
    "def power(matrix, power):\n",
    "    e1, e2 = eigenValues(matrix)\n",
    "    e1, e2 = mpmath.mpc(e1), mpmath.mpc(e2)\n",
    "    return ((e2*e1**power-e1*e2**power)/(e2-e1)*np.matrix([[1,0],[0,1]])\n",
    "            + (e2**power - e1**power)/(e2-e1)*matrix)"
   ]
  },
  {
   "cell_type": "code",
   "execution_count": 5,
   "metadata": {
    "collapsed": true
   },
   "outputs": [],
   "source": [
    "def root(matrix, n=2):\n",
    "    return power(matrix, 1/n)"
   ]
  },
  {
   "cell_type": "code",
   "execution_count": 13,
   "metadata": {},
   "outputs": [],
   "source": [
    "a = root(np.matrix([[1,2],[3,4]]), 10000)"
   ]
  },
  {
   "cell_type": "code",
   "execution_count": 14,
   "metadata": {},
   "outputs": [
    {
     "data": {
      "text/plain": [
       "matrix([[mpc(real='0.99996492555452809', imag='0.00023908816591239156'),\n",
       "         mpc(real='9.2955520866307259e-5', imag='-0.00010936540823207277')],\n",
       "        [mpc(real='0.00013943328129946089', imag='-0.00016404811234810917'),\n",
       "         mpc(real='1.0001043588358276', imag='7.504005356428239e-5')]], dtype=object)"
      ]
     },
     "execution_count": 14,
     "metadata": {},
     "output_type": "execute_result"
    }
   ],
   "source": [
    "a"
   ]
  },
  {
   "cell_type": "code",
   "execution_count": 17,
   "metadata": {},
   "outputs": [
    {
     "data": {
      "text/plain": [
       "matrix([[mpc(real='1.0', imag='0.0'),\n",
       "         mpc(real='1.9999999999976288', imag='-4.105360897100979e-13')],\n",
       "        [mpc(real='2.9999999999964433', imag='-6.1586528452576264e-13'),\n",
       "         mpc(real='3.999999999996362', imag='0.0')]], dtype=object)"
      ]
     },
     "execution_count": 17,
     "metadata": {},
     "output_type": "execute_result"
    }
   ],
   "source": [
    "power(a, 10000)"
   ]
  },
  {
   "cell_type": "code",
   "execution_count": 24,
   "metadata": {},
   "outputs": [],
   "source": [
    "V = np.array([1,1])"
   ]
  },
  {
   "cell_type": "code",
   "execution_count": 38,
   "metadata": {},
   "outputs": [
    {
     "data": {
      "text/plain": [
       "matrix([[mpc(real='3.9999999999962816', imag='-1.0233341951604302e-12'),\n",
       "         mpc(real='5.9999999999960414', imag='2.9309887850104133e-13')]], dtype=object)"
      ]
     },
     "execution_count": 38,
     "metadata": {},
     "output_type": "execute_result"
    }
   ],
   "source": [
    "V*a**10000"
   ]
  },
  {
   "cell_type": "code",
   "execution_count": null,
   "metadata": {
    "collapsed": true
   },
   "outputs": [],
   "source": []
  }
 ],
 "metadata": {
  "kernelspec": {
   "display_name": "Python 3",
   "language": "python",
   "name": "python3"
  },
  "language_info": {
   "codemirror_mode": {
    "name": "ipython",
    "version": 3
   },
   "file_extension": ".py",
   "mimetype": "text/x-python",
   "name": "python",
   "nbconvert_exporter": "python",
   "pygments_lexer": "ipython3",
   "version": "3.6.1"
  }
 },
 "nbformat": 4,
 "nbformat_minor": 2
}
