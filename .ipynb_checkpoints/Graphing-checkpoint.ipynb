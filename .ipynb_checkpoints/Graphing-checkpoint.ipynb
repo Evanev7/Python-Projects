{
 "cells": [
  {
   "cell_type": "code",
   "execution_count": 1,
   "id": "d4ff7de2",
   "metadata": {},
   "outputs": [],
   "source": [
    "from matplotlib import pyplot as plt\n",
    "import json\n",
    "import mysql.connector    \n",
    "cnx = mysql.connector.connect(user='root', password='root',\n",
    "                              host='127.0.0.1',\n",
    "                              database='kol')\n",
    "\n",
    "try:\n",
    "   cursor = cnx.cursor()\n",
    "   cursor.execute(\"\"\"\n",
    "      SELECT * FROM user_audience_analyses;\n",
    "   \"\"\")\n",
    "   result = cursor.fetchall()\n",
    "   print result\n",
    "finally:\n",
    "    cnx.close()"
   ]
  },
  {
   "cell_type": "code",
   "execution_count": null,
   "id": "9c7e879e",
   "metadata": {},
   "outputs": [],
   "source": [
    "def histogram(edges, values):\n",
    "    output = []\n",
    "    if len(values) == len(edges):\n",
    "        for i in range(len(values)):\n",
    "            output.append([edges[i]]*values[i])\n",
    "    return np.histogram()"
   ]
  }
 ],
 "metadata": {
  "kernelspec": {
   "display_name": "Python 3",
   "language": "python",
   "name": "python3"
  },
  "language_info": {
   "codemirror_mode": {
    "name": "ipython",
    "version": 3
   },
   "file_extension": ".py",
   "mimetype": "text/x-python",
   "name": "python",
   "nbconvert_exporter": "python",
   "pygments_lexer": "ipython3",
   "version": "3.8.8"
  }
 },
 "nbformat": 4,
 "nbformat_minor": 5
}
