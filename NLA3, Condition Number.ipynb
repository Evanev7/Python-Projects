{
 "cells": [
  {
   "cell_type": "code",
   "execution_count": 25,
   "id": "0ec82554",
   "metadata": {},
   "outputs": [],
   "source": [
    "import numpy as np\n",
    "from scipy.linalg import qr\n",
    "from matplotlib import pyplot as plt"
   ]
  },
  {
   "cell_type": "code",
   "execution_count": 45,
   "id": "3aad6456",
   "metadata": {},
   "outputs": [],
   "source": [
    "n = 500\n",
    "rlist = []\n",
    "nlist = []\n",
    "bestlist = []\n",
    "\n",
    "for r in range(10,n,10):\n",
    "    Q1, _ = qr(np.random.randn(n, n))\n",
    "    Q2, _ = qr(np.random.randn(n, n))\n",
    "    D = np.array([10**(-20*k/(n-1)) for k in range(n)])\n",
    "    A = np.matmul(np.matmul(Q1, np.diag(D)), np.transpose( Q2))\n",
    "\n",
    "    X = np.random.randn(n,r)\n",
    "\n",
    "    Q, R = qr(np.matmul(A,X))\n",
    "    A2 = np.matmul(np.matmul(Q,np.transpose(Q)), A)\n",
    "\n",
    "    rlist.append(r)\n",
    "    nlist.append(np.linalg.norm(A - A2,2))\n",
    "    bestlist.append(D[r+1])"
   ]
  },
  {
   "cell_type": "code",
   "execution_count": 46,
   "id": "1a375365",
   "metadata": {},
   "outputs": [
    {
     "data": {
      "text/plain": [
       "[<matplotlib.lines.Line2D at 0x2e53b63dc10>]"
      ]
     },
     "execution_count": 46,
     "metadata": {},
     "output_type": "execute_result"
    },
    {
     "data": {
      "image/png": "[encoded data removed]",
      "text/plain": [
       "<Figure size 432x288 with 1 Axes>"
      ]
     },
     "metadata": {
      "needs_background": "light"
     },
     "output_type": "display_data"
    }
   ],
   "source": [
    "plt.plot(rlist,bestlist)\n",
    "plt.plot(rlist,nlist)"
   ]
  },
  {
   "cell_type": "code",
   "execution_count": 51,
   "id": "cc14fe27",
   "metadata": {},
   "outputs": [
    {
     "name": "stdout",
     "output_type": "stream",
     "text": [
      "1.0\n",
      "97.47332890849627\n",
      "10656.845621999571\n",
      "1192472.4837129856\n",
      "141343439.42970103\n",
      "3644586867.8021936\n",
      "4212814265.2204\n",
      "4726328764.4738655\n",
      "5394447340.868542\n",
      "5449423837.989733\n",
      "5859932172.739928\n",
      "6276164052.371869\n",
      "6554613965.330625\n",
      "6708669750.201523\n",
      "6878225586.975655\n",
      "6985062761.562374\n",
      "7210335953.131601\n",
      "7244016836.751083\n",
      "7401567075.710932\n"
     ]
    }
   ],
   "source": [
    "Lambda = np.diag(np.arange(100)+1)\n",
    "b = np.random.rand(100)\n",
    "for k in range(1,20):\n",
    "    Xk = np.array([np.matmul(np.linalg.matrix_power(Lambda, i), b) \n",
    "                   for i in range(k)])\n",
    "    print(np.linalg.cond(Xk))"
   ]
  },
  {
   "cell_type": "code",
   "execution_count": 16,
   "id": "abb5e16a",
   "metadata": {},
   "outputs": [
    {
     "data": {
      "text/plain": [
       "array([[ 19.57177003,  25.21754596,  10.51198947],\n",
       "       [  5.31857727,  21.5493212 ,  43.30321751],\n",
       "       [  8.8359872 , -31.49690309, -16.89853667]])"
      ]
     },
     "execution_count": 16,
     "metadata": {},
     "output_type": "execute_result"
    }
   ],
   "source": [
    "A"
   ]
  },
  {
   "cell_type": "code",
   "execution_count": 47,
   "id": "f0686c0e",
   "metadata": {},
   "outputs": [
    {
     "data": {
      "text/plain": [
       "[6.327816370503987e-16,\n",
       " 5.511450829406564e-16,\n",
       " 6.924824343255909e-16,\n",
       " 7.469592923906301e-16,\n",
       " 7.935215293920471e-16,\n",
       " 8.001666394928271e-16,\n",
       " 8.027734544330675e-16,\n",
       " 7.632222382482962e-16,\n",
       " 6.842864364847547e-16,\n",
       " 8.92443503479533e-16,\n",
       " 8.466196308715957e-16,\n",
       " 8.629752121357014e-16,\n",
       " 7.43049335160579e-16,\n",
       " 7.923024046467781e-16,\n",
       " 9.136811458091813e-16,\n",
       " 8.240996769000492e-16,\n",
       " 8.156227414072856e-16,\n",
       " 8.013120191346755e-16,\n",
       " 8.135854091676843e-16,\n",
       " 9.06261751580672e-16,\n",
       " 8.105058921738436e-16,\n",
       " 8.461997837403271e-16,\n",
       " 8.951852836286591e-16,\n",
       " 8.434061712770598e-16,\n",
       " 8.580417079077641e-16,\n",
       " 7.552648690835046e-16,\n",
       " 7.936332723883066e-16,\n",
       " 9.335320394869371e-16,\n",
       " 8.167733437685025e-16,\n",
       " 7.965829768431241e-16,\n",
       " 8.501863667165548e-16,\n",
       " 8.173667359495811e-16,\n",
       " 8.017737808891729e-16,\n",
       " 9.498855812862672e-16,\n",
       " 7.378049616634569e-16,\n",
       " 8.82755279381665e-16,\n",
       " 8.272474010190568e-16,\n",
       " 7.771583673682213e-16,\n",
       " 7.38756694287105e-16,\n",
       " 8.283272034215866e-16,\n",
       " 7.367159045396693e-16,\n",
       " 9.660404220173202e-16,\n",
       " 7.58496004394443e-16,\n",
       " 9.043173854144596e-16,\n",
       " 7.855462599690372e-16,\n",
       " 8.654779323112484e-16,\n",
       " 8.529515261735295e-16,\n",
       " 1.0223166105549349e-15,\n",
       " 8.824339562389647e-16]"
      ]
     },
     "execution_count": 47,
     "metadata": {},
     "output_type": "execute_result"
    }
   ],
   "source": [
    "nlist"
   ]
  },
  {
   "cell_type": "code",
   "execution_count": 27,
   "id": "ee5eaff4",
   "metadata": {},
   "outputs": [
    {
     "data": {
      "text/plain": [
       "[0, 10, 20, 30, 40, 50, 60]"
      ]
     },
     "execution_count": 27,
     "metadata": {},
     "output_type": "execute_result"
    }
   ],
   "source": [
    "list(range(0,61,10))"
   ]
  },
  {
   "cell_type": "code",
   "execution_count": 36,
   "id": "65071381",
   "metadata": {},
   "outputs": [
    {
     "data": {
      "text/plain": [
       "[2.7610848848185737e-17,\n",
       " 4.648154363883658e-17,\n",
       " 3.343613398445439e-17,\n",
       " 4.657856000921853e-17,\n",
       " 3.335373352021614e-17,\n",
       " 3.911410826641009e-17,\n",
       " 3.6165955285678845e-17,\n",
       " 3.642967359437807e-17,\n",
       " 3.177410506620821e-17]"
      ]
     },
     "execution_count": 36,
     "metadata": {},
     "output_type": "execute_result"
    }
   ],
   "source": [
    "nlist"
   ]
  },
  {
   "cell_type": "code",
   "execution_count": null,
   "id": "07c5c1b8",
   "metadata": {},
   "outputs": [],
   "source": []
  }
 ],
 "metadata": {
  "kernelspec": {
   "display_name": "Python 3 (ipykernel)",
   "language": "python",
   "name": "python3"
  },
  "language_info": {
   "codemirror_mode": {
    "name": "ipython",
    "version": 3
   },
   "file_extension": ".py",
   "mimetype": "text/x-python",
   "name": "python",
   "nbconvert_exporter": "python",
   "pygments_lexer": "ipython3",
   "version": "3.12.3"
  }
 },
 "nbformat": 4,
 "nbformat_minor": 5
}
