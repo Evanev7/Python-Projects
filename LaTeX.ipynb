{
 "cells": [
  {
   "cell_type": "code",
   "execution_count": 17,
   "metadata": {},
   "outputs": [
    {
     "data": {
      "text/html": [
       "<style>.container { width:100% !important; }</style>"
      ],
      "text/plain": [
       "<IPython.core.display.HTML object>"
      ]
     },
     "metadata": {},
     "output_type": "display_data"
    }
   ],
   "source": [
    "from IPython.core.display import display, HTML\n",
    "display(HTML(\"<style>.container { width:100% !important; }</style>\"))"
   ]
  },
  {
   "cell_type": "code",
   "execution_count": 21,
   "metadata": {},
   "outputs": [
    {
     "data": {
      "text/latex": [
       "\\(\n",
       "    z = a+bi+cj+dk\n",
       "    f(z) = f(a+bi+cj+dk) = p(a,b,c,d)+iq(a,b,c,d)+jr(a,b,c,d)+ks(a,b,c,d) \\\\\n",
       "\\)\n",
       "\\begin{align}\n",
       "\\frac{df}{dz} &= \\frac{df}{da}\\frac{da}{dz}=\\frac{df}{da}            & =  &\\frac{d}{da}\\big(p+iq+jr+ks\\big)\\\\\n",
       "              &= \\frac{df}{db}\\frac{db}{dz}=\\frac{df}{db}\\frac{1}{i} & =-i&\\frac{d}{da}\\big(p+iq+jr+ks\\big)\\\\\n",
       "              &= \\frac{df}{dc}\\frac{dc}{dz}=\\frac{df}{dc}\\frac{1}{j} & =-j&\\frac{d}{da}\\big(p+iq+jr+ks\\big)\\\\\n",
       "              &= \\frac{df}{dd}\\frac{dd}{dz}=\\frac{df}{dd}\\frac{1}{k} & =-k&\\frac{d}{da}\\big(p+iq+jr+ks\\big)\n",
       "\\end{align}"
      ],
      "text/plain": [
       "<IPython.core.display.Latex object>"
      ]
     },
     "metadata": {},
     "output_type": "display_data"
    }
   ],
   "source": [
    "%%latex\n",
    "\\(\n",
    "    z = a+bi+cj+dk\n",
    "    f(z) = f(a+bi+cj+dk) = p(a,b,c,d)+iq(a,b,c,d)+jr(a,b,c,d)+ks(a,b,c,d) \\\\\n",
    "\\)\n",
    "\\begin{align}\n",
    "\\frac{df}{dz} &= \\frac{df}{da}\\frac{da}{dz}=\\frac{df}{da}            & =  &\\frac{d}{da}\\big(p+iq+jr+ks\\big)\\\\\n",
    "              &= \\frac{df}{db}\\frac{db}{dz}=\\frac{df}{db}\\frac{1}{i} & =-i&\\frac{d}{da}\\big(p+iq+jr+ks\\big)\\\\\n",
    "              &= \\frac{df}{dc}\\frac{dc}{dz}=\\frac{df}{dc}\\frac{1}{j} & =-j&\\frac{d}{da}\\big(p+iq+jr+ks\\big)\\\\\n",
    "              &= \\frac{df}{dd}\\frac{dd}{dz}=\\frac{df}{dd}\\frac{1}{k} & =-k&\\frac{d}{da}\\big(p+iq+jr+ks\\big)\n",
    "\\end{align}"
   ]
  },
  {
   "cell_type": "code",
   "execution_count": null,
   "metadata": {
    "collapsed": true
   },
   "outputs": [],
   "source": []
  },
  {
   "cell_type": "code",
   "execution_count": null,
   "metadata": {
    "collapsed": true
   },
   "outputs": [],
   "source": []
  }
 ],
 "metadata": {
  "kernelspec": {
   "display_name": "Python 3",
   "language": "python",
   "name": "python3"
  },
  "language_info": {
   "codemirror_mode": {
    "name": "ipython",
    "version": 3
   },
   "file_extension": ".py",
   "mimetype": "text/x-python",
   "name": "python",
   "nbconvert_exporter": "python",
   "pygments_lexer": "ipython3",
   "version": "3.6.1"
  }
 },
 "nbformat": 4,
 "nbformat_minor": 2
}
