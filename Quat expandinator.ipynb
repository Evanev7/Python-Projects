{
 "cells": [
  {
   "cell_type": "code",
   "execution_count": 20,
   "metadata": {
    "collapsed": true
   },
   "outputs": [],
   "source": [
    "from sympy import expand as poof \n",
    "from sympy import simplify as banana"
   ]
  },
  {
   "cell_type": "code",
   "execution_count": 4,
   "metadata": {
    "collapsed": true
   },
   "outputs": [],
   "source": [
    "def expand(a,b):\n",
    "    basis = [[\"× 1\",\"× i\",\"× j\",\"× k\"],[\"× i\",\"×-1\",\"× k\",\"×-j\"],[\"× j\",\"×-k\",\"×-1\",\"× i\"],[\"× k\",\"× j\",\"×-i\",\"×-1\"]]\n",
    "    l=[]\n",
    "    for i in range(4):\n",
    "        for j in range(4):\n",
    "            l.append(\"(\"+a[i]+\")*(\"+b[j]+\")\"+basis[i][j])\n",
    "    out = [\"\",\"\",\"\",\"\"]\n",
    "    d={\"1\":0,\"i\":1,\"j\":2,\"k\":3}\n",
    "    for i in l:\n",
    "        if i[-2] == \"-\":\n",
    "            out[d[i[-1]]] += \"-\"+i[:-3]\n",
    "        else:\n",
    "            out[d[i[-1]]] += \"+\"+i[:-3]\n",
    "    return out"
   ]
  },
  {
   "cell_type": "code",
   "execution_count": 23,
   "metadata": {
    "collapsed": true
   },
   "outputs": [],
   "source": [
    "wup = expand([\"a\",\"b\",\"c\",\"d\"],[\"dw\",\"dx\",\"dy\",\"dz\"])"
   ]
  },
  {
   "cell_type": "code",
   "execution_count": null,
   "metadata": {},
   "outputs": [],
   "source": []
  },
  {
   "cell_type": "code",
   "execution_count": 24,
   "metadata": {},
   "outputs": [
    {
     "name": "stdout",
     "output_type": "stream",
     "text": [
      "[a*dw, -b*dx, -c*dy, -d*dz]\n",
      "[b*dw, a*dx, -d*dy, c*dz]\n",
      "[c*dw, d*dx, a*dy, -b*dz]\n",
      "[d*dw, -c*dx, b*dy, a*dz]\n"
     ]
    }
   ],
   "source": [
    "for j in range(4):\n",
    "    kek = str(poof(wup[j])).split(\" \")\n",
    "    o = [\"\",\"\",\"\",\"\"]\n",
    "    for i in range(0,len(kek),2):\n",
    "        if i != 0:\n",
    "            sign = kek[i-1]\n",
    "        else:\n",
    "            sign = \"+\"\n",
    "        if \"dw\" in kek[i]:\n",
    "            o[0] += sign + kek[i]\n",
    "        if \"dx\" in kek[i]:\n",
    "            o[1] += sign + kek[i]\n",
    "        if \"dy\" in kek[i]:\n",
    "            o[2] += sign + kek[i]\n",
    "        if \"dz\" in kek[i]:\n",
    "            o[3] += sign + kek[i]\n",
    "    o = [banana(i) for i in o]\n",
    "    print(o)"
   ]
  },
  {
   "cell_type": "code",
   "execution_count": 14,
   "metadata": {},
   "outputs": [
    {
     "data": {
      "text/plain": [
       "['a*dw*e',\n",
       " '-',\n",
       " 'a*dx*f',\n",
       " '-',\n",
       " 'a*dy*g',\n",
       " '-',\n",
       " 'a*dz*h',\n",
       " '-',\n",
       " 'b*dw*f',\n",
       " '-',\n",
       " 'b*dx*e',\n",
       " '-',\n",
       " 'b*dy*h',\n",
       " '+',\n",
       " 'b*dz*g',\n",
       " '-',\n",
       " 'c*dw*g',\n",
       " '+',\n",
       " 'c*dx*h',\n",
       " '-',\n",
       " 'c*dy*e',\n",
       " '-',\n",
       " 'c*dz*f',\n",
       " '-',\n",
       " 'd*dw*h',\n",
       " '-',\n",
       " 'd*dx*g',\n",
       " '+',\n",
       " 'd*dy*f',\n",
       " '-',\n",
       " 'd*dz*e']"
      ]
     },
     "execution_count": 14,
     "metadata": {},
     "output_type": "execute_result"
    }
   ],
   "source": [
    "kek"
   ]
  },
  {
   "cell_type": "code",
   "execution_count": 15,
   "metadata": {},
   "outputs": [
    {
     "data": {
      "text/plain": [
       "['+a*dw*e-b*dw*f-c*dw*g-d*dw*h',\n",
       " '-a*dx*f-b*dx*e+c*dx*h-d*dx*g',\n",
       " '-a*dy*g-b*dy*h-c*dy*e+d*dy*f',\n",
       " '-a*dz*h+b*dz*g-c*dz*f-d*dz*e']"
      ]
     },
     "execution_count": 15,
     "metadata": {},
     "output_type": "execute_result"
    }
   ],
   "source": [
    "o"
   ]
  },
  {
   "cell_type": "code",
   "execution_count": null,
   "metadata": {
    "collapsed": true
   },
   "outputs": [],
   "source": []
  }
 ],
 "metadata": {
  "kernelspec": {
   "display_name": "Python 3",
   "language": "python",
   "name": "python3"
  },
  "language_info": {
   "codemirror_mode": {
    "name": "ipython",
    "version": 3
   },
   "file_extension": ".py",
   "mimetype": "text/x-python",
   "name": "python",
   "nbconvert_exporter": "python",
   "pygments_lexer": "ipython3",
   "version": "3.6.1"
  }
 },
 "nbformat": 4,
 "nbformat_minor": 2
}
