{
 "cells": [
  {
   "cell_type": "code",
   "execution_count": 2,
   "id": "5138d57a",
   "metadata": {},
   "outputs": [],
   "source": [
    "import requests"
   ]
  },
  {
   "cell_type": "code",
   "execution_count": 46,
   "id": "80df5d8f",
   "metadata": {},
   "outputs": [],
   "source": [
    "def get_app_uuid(api_key, appid):\n",
    "    url = f\"https://api.isthereanydeal.com/games/lookup/v1?key={api_key}&appid={appid}\"\n",
    "    result = requests.get(url).json()\n",
    "    return result\n",
    "\n",
    "def get_app_history(api_key, uuid, country=\"GB\", timestamp=\"2022-12-27T11:21:08+01:00\"):\n",
    "    url = f\"https://api.isthereanydeal.com/games/history/v2?key={api_key}&id={uuid}&country={country}&since=2019-08-09T00:00:0000\"\n",
    "    result = requests.get(url).json()\n",
    "    return result\n",
    "\n",
    "def app_id_to_price_history(api_key, appid):\n",
    "    uuid_result = get_app_uuid(api_key,appid)\n",
    "    if not uuid_result[\"found\"]:\n",
    "        return False\n",
    "    uuid = uuid_result[\"game\"][\"id\"]\n",
    "    history_result = get_app_history(api_key, uuid)"
   ]
  },
  {
   "cell_type": "code",
   "execution_count": 47,
   "id": "279420f9",
   "metadata": {},
   "outputs": [
    {
     "data": {
      "text/plain": [
       "{'status_code': 400, 'reason_phrase': \"Invalid 'since' format\"}"
      ]
     },
     "execution_count": 47,
     "metadata": {},
     "output_type": "execute_result"
    }
   ],
   "source": [
    "get_app_uuid(\"4c96e77461f1ea6bb10f7ecd9714baf023aa5a49\", 427520)\n",
    "get_app_history(\"4c96e77461f1ea6bb10f7ecd9714baf023aa5a49\",\"018d937e-f518-7166-9649-affeff72a110\", \"GB\")"
   ]
  },
  {
   "cell_type": "code",
   "execution_count": 21,
   "id": "9ff64b66",
   "metadata": {},
   "outputs": [],
   "source": [
    "var = [{'timestamp': '2024-03-14T18:22:31+01:00', 'shop': {'id': 61, 'name': 'Steam'}, 'deal': {'price': {'amount': 15.39, 'amountInt': 1539, 'currency': 'GBP'}, 'regular': {'amount': 27.99, 'amountInt': 2799, 'currency': 'GBP'}, 'cut': 45}}, {'timestamp': '2024-03-14T16:42:08+01:00', 'shop': {'id': 16, 'name': 'Epic Game Store'}, 'deal': {'price': {'amount': 15.39, 'amountInt': 1539, 'currency': 'GBP'}, 'regular': {'amount': 27.99, 'amountInt': 2799, 'currency': 'GBP'}, 'cut': 45}}, {'timestamp': '2024-03-12T04:09:17+01:00', 'shop': {'id': 16, 'name': 'Epic Game Store'}, 'deal': {'price': {'amount': 27.99, 'amountInt': 2799, 'currency': 'GBP'}, 'regular': {'amount': 27.99, 'amountInt': 2799, 'currency': 'GBP'}, 'cut': 0}}, {'timestamp': '2024-03-07T19:12:56+01:00', 'shop': {'id': 37, 'name': 'Humble Store'}, 'deal': {'price': {'amount': 15.39, 'amountInt': 1539, 'currency': 'GBP'}, 'regular': {'amount': 27.99, 'amountInt': 2799, 'currency': 'GBP'}, 'cut': 45}}, {'timestamp': '2024-02-12T17:12:32+01:00', 'shop': {'id': 16, 'name': 'Epic Game Store'}, 'deal': {'price': {'amount': 27.99, 'amountInt': 2799, 'currency': 'GBP'}, 'regular': {'amount': 27.99, 'amountInt': 2799, 'currency': 'GBP'}, 'cut': 0}}, {'timestamp': '2024-02-11T22:43:24+01:00', 'shop': {'id': 37, 'name': 'Humble Store'}, 'deal': {'price': {'amount': 27.99, 'amountInt': 2799, 'currency': 'GBP'}, 'regular': {'amount': 27.99, 'amountInt': 2799, 'currency': 'GBP'}, 'cut': 0}}, {'timestamp': '2024-02-11T02:40:58+01:00', 'shop': {'id': 61, 'name': 'Steam'}, 'deal': {'price': {'amount': 27.99, 'amountInt': 2799, 'currency': 'GBP'}, 'regular': {'amount': 27.99, 'amountInt': 2799, 'currency': 'GBP'}, 'cut': 0}}, {'timestamp': '2024-02-11T01:47:22+01:00', 'shop': {'id': 16, 'name': 'Epic Game Store'}, 'deal': {'price': {'amount': 15.39, 'amountInt': 1539, 'currency': 'GBP'}, 'regular': {'amount': 27.99, 'amountInt': 2799, 'currency': 'GBP'}, 'cut': 45}}, {'timestamp': '2024-02-09T17:11:52+01:00', 'shop': {'id': 16, 'name': 'Epic Game Store'}, 'deal': {'price': {'amount': 15.39, 'amountInt': 1539, 'currency': 'GBP'}, 'regular': {'amount': 27.99, 'amountInt': 2799, 'currency': 'GBP'}, 'cut': 45}}, {'timestamp': '2024-02-05T19:11:17+01:00', 'shop': {'id': 37, 'name': 'Humble Store'}, 'deal': {'price': {'amount': 27.99, 'amountInt': 2799, 'currency': 'GBP'}, 'regular': {'amount': 27.99, 'amountInt': 2799, 'currency': 'GBP'}, 'cut': 0}}, {'timestamp': '2024-01-29T19:08:36+01:00', 'shop': {'id': 61, 'name': 'Steam'}, 'deal': {'price': {'amount': 27.99, 'amountInt': 2799, 'currency': 'GBP'}, 'regular': {'amount': 27.99, 'amountInt': 2799, 'currency': 'GBP'}, 'cut': 0}}, {'timestamp': '2024-01-22T20:31:48+01:00', 'shop': {'id': 61, 'name': 'Steam'}, 'deal': {'price': {'amount': 15.39, 'amountInt': 1539, 'currency': 'GBP'}, 'regular': {'amount': 27.99, 'amountInt': 2799, 'currency': 'GBP'}, 'cut': 45}}, {'timestamp': '2024-01-18T20:06:29+01:00', 'shop': {'id': 37, 'name': 'Humble Store'}, 'deal': {'price': {'amount': 15.39, 'amountInt': 1539, 'currency': 'GBP'}, 'regular': {'amount': 27.99, 'amountInt': 2799, 'currency': 'GBP'}, 'cut': 45}}, {'timestamp': '2024-01-10T17:46:39+01:00', 'shop': {'id': 16, 'name': 'Epic Game Store'}, 'deal': {'price': {'amount': 27.99, 'amountInt': 2799, 'currency': 'GBP'}, 'regular': {'amount': 27.99, 'amountInt': 2799, 'currency': 'GBP'}, 'cut': 0}}, {'timestamp': '2024-01-08T08:51:55+01:00', 'shop': {'id': 37, 'name': 'Humble Store'}, 'deal': {'price': {'amount': 27.99, 'amountInt': 2799, 'currency': 'GBP'}, 'regular': {'amount': 27.99, 'amountInt': 2799, 'currency': 'GBP'}, 'cut': 0}}, {'timestamp': '2024-01-04T20:05:31+01:00', 'shop': {'id': 61, 'name': 'Steam'}, 'deal': {'price': {'amount': 27.99, 'amountInt': 2799, 'currency': 'GBP'}, 'regular': {'amount': 27.99, 'amountInt': 2799, 'currency': 'GBP'}, 'cut': 0}}, {'timestamp': '2023-12-20T19:19:36+01:00', 'shop': {'id': 61, 'name': 'Steam'}, 'deal': {'price': {'amount': 15.39, 'amountInt': 1539, 'currency': 'GBP'}, 'regular': {'amount': 27.99, 'amountInt': 2799, 'currency': 'GBP'}, 'cut': 45}}, {'timestamp': '2023-12-18T19:16:42+01:00', 'shop': {'id': 37, 'name': 'Humble Store'}, 'deal': {'price': {'amount': 15.39, 'amountInt': 1539, 'currency': 'GBP'}, 'regular': {'amount': 27.99, 'amountInt': 2799, 'currency': 'GBP'}, 'cut': 45}}, {'timestamp': '2023-12-11T19:06:24+01:00', 'shop': {'id': 37, 'name': 'Humble Store'}, 'deal': {'price': {'amount': 27.99, 'amountInt': 2799, 'currency': 'GBP'}, 'regular': {'amount': 27.99, 'amountInt': 2799, 'currency': 'GBP'}, 'cut': 0}}, {'timestamp': '2023-11-28T19:12:41+01:00', 'shop': {'id': 61, 'name': 'Steam'}, 'deal': {'price': {'amount': 27.99, 'amountInt': 2799, 'currency': 'GBP'}, 'regular': {'amount': 27.99, 'amountInt': 2799, 'currency': 'GBP'}, 'cut': 0}}, {'timestamp': '2023-12-13T17:01:46+01:00', 'shop': {'id': 16, 'name': 'Epic Game Store'}, 'deal': {'price': {'amount': 15.39, 'amountInt': 1539, 'currency': 'GBP'}, 'regular': {'amount': 27.99, 'amountInt': 2799, 'currency': 'GBP'}, 'cut': 45}}]"
   ]
  },
  {
   "cell_type": "code",
   "execution_count": 22,
   "id": "333d9a8c",
   "metadata": {},
   "outputs": [
    {
     "name": "stdout",
     "output_type": "stream",
     "text": [
      "{'timestamp': '2024-03-14T18:22:31+01:00', 'shop': {'id': 61, 'name': 'Steam'}, 'deal': {'price': {'amount': 15.39, 'amountInt': 1539, 'currency': 'GBP'}, 'regular': {'amount': 27.99, 'amountInt': 2799, 'currency': 'GBP'}, 'cut': 45}}\n",
      "{'timestamp': '2024-03-14T16:42:08+01:00', 'shop': {'id': 16, 'name': 'Epic Game Store'}, 'deal': {'price': {'amount': 15.39, 'amountInt': 1539, 'currency': 'GBP'}, 'regular': {'amount': 27.99, 'amountInt': 2799, 'currency': 'GBP'}, 'cut': 45}}\n",
      "{'timestamp': '2024-03-12T04:09:17+01:00', 'shop': {'id': 16, 'name': 'Epic Game Store'}, 'deal': {'price': {'amount': 27.99, 'amountInt': 2799, 'currency': 'GBP'}, 'regular': {'amount': 27.99, 'amountInt': 2799, 'currency': 'GBP'}, 'cut': 0}}\n",
      "{'timestamp': '2024-03-07T19:12:56+01:00', 'shop': {'id': 37, 'name': 'Humble Store'}, 'deal': {'price': {'amount': 15.39, 'amountInt': 1539, 'currency': 'GBP'}, 'regular': {'amount': 27.99, 'amountInt': 2799, 'currency': 'GBP'}, 'cut': 45}}\n",
      "{'timestamp': '2024-02-12T17:12:32+01:00', 'shop': {'id': 16, 'name': 'Epic Game Store'}, 'deal': {'price': {'amount': 27.99, 'amountInt': 2799, 'currency': 'GBP'}, 'regular': {'amount': 27.99, 'amountInt': 2799, 'currency': 'GBP'}, 'cut': 0}}\n",
      "{'timestamp': '2024-02-11T22:43:24+01:00', 'shop': {'id': 37, 'name': 'Humble Store'}, 'deal': {'price': {'amount': 27.99, 'amountInt': 2799, 'currency': 'GBP'}, 'regular': {'amount': 27.99, 'amountInt': 2799, 'currency': 'GBP'}, 'cut': 0}}\n",
      "{'timestamp': '2024-02-11T02:40:58+01:00', 'shop': {'id': 61, 'name': 'Steam'}, 'deal': {'price': {'amount': 27.99, 'amountInt': 2799, 'currency': 'GBP'}, 'regular': {'amount': 27.99, 'amountInt': 2799, 'currency': 'GBP'}, 'cut': 0}}\n",
      "{'timestamp': '2024-02-11T01:47:22+01:00', 'shop': {'id': 16, 'name': 'Epic Game Store'}, 'deal': {'price': {'amount': 15.39, 'amountInt': 1539, 'currency': 'GBP'}, 'regular': {'amount': 27.99, 'amountInt': 2799, 'currency': 'GBP'}, 'cut': 45}}\n",
      "{'timestamp': '2024-02-09T17:11:52+01:00', 'shop': {'id': 16, 'name': 'Epic Game Store'}, 'deal': {'price': {'amount': 15.39, 'amountInt': 1539, 'currency': 'GBP'}, 'regular': {'amount': 27.99, 'amountInt': 2799, 'currency': 'GBP'}, 'cut': 45}}\n",
      "{'timestamp': '2024-02-05T19:11:17+01:00', 'shop': {'id': 37, 'name': 'Humble Store'}, 'deal': {'price': {'amount': 27.99, 'amountInt': 2799, 'currency': 'GBP'}, 'regular': {'amount': 27.99, 'amountInt': 2799, 'currency': 'GBP'}, 'cut': 0}}\n",
      "{'timestamp': '2024-01-29T19:08:36+01:00', 'shop': {'id': 61, 'name': 'Steam'}, 'deal': {'price': {'amount': 27.99, 'amountInt': 2799, 'currency': 'GBP'}, 'regular': {'amount': 27.99, 'amountInt': 2799, 'currency': 'GBP'}, 'cut': 0}}\n",
      "{'timestamp': '2024-01-22T20:31:48+01:00', 'shop': {'id': 61, 'name': 'Steam'}, 'deal': {'price': {'amount': 15.39, 'amountInt': 1539, 'currency': 'GBP'}, 'regular': {'amount': 27.99, 'amountInt': 2799, 'currency': 'GBP'}, 'cut': 45}}\n",
      "{'timestamp': '2024-01-18T20:06:29+01:00', 'shop': {'id': 37, 'name': 'Humble Store'}, 'deal': {'price': {'amount': 15.39, 'amountInt': 1539, 'currency': 'GBP'}, 'regular': {'amount': 27.99, 'amountInt': 2799, 'currency': 'GBP'}, 'cut': 45}}\n",
      "{'timestamp': '2024-01-10T17:46:39+01:00', 'shop': {'id': 16, 'name': 'Epic Game Store'}, 'deal': {'price': {'amount': 27.99, 'amountInt': 2799, 'currency': 'GBP'}, 'regular': {'amount': 27.99, 'amountInt': 2799, 'currency': 'GBP'}, 'cut': 0}}\n",
      "{'timestamp': '2024-01-08T08:51:55+01:00', 'shop': {'id': 37, 'name': 'Humble Store'}, 'deal': {'price': {'amount': 27.99, 'amountInt': 2799, 'currency': 'GBP'}, 'regular': {'amount': 27.99, 'amountInt': 2799, 'currency': 'GBP'}, 'cut': 0}}\n",
      "{'timestamp': '2024-01-04T20:05:31+01:00', 'shop': {'id': 61, 'name': 'Steam'}, 'deal': {'price': {'amount': 27.99, 'amountInt': 2799, 'currency': 'GBP'}, 'regular': {'amount': 27.99, 'amountInt': 2799, 'currency': 'GBP'}, 'cut': 0}}\n",
      "{'timestamp': '2023-12-20T19:19:36+01:00', 'shop': {'id': 61, 'name': 'Steam'}, 'deal': {'price': {'amount': 15.39, 'amountInt': 1539, 'currency': 'GBP'}, 'regular': {'amount': 27.99, 'amountInt': 2799, 'currency': 'GBP'}, 'cut': 45}}\n",
      "{'timestamp': '2023-12-18T19:16:42+01:00', 'shop': {'id': 37, 'name': 'Humble Store'}, 'deal': {'price': {'amount': 15.39, 'amountInt': 1539, 'currency': 'GBP'}, 'regular': {'amount': 27.99, 'amountInt': 2799, 'currency': 'GBP'}, 'cut': 45}}\n",
      "{'timestamp': '2023-12-11T19:06:24+01:00', 'shop': {'id': 37, 'name': 'Humble Store'}, 'deal': {'price': {'amount': 27.99, 'amountInt': 2799, 'currency': 'GBP'}, 'regular': {'amount': 27.99, 'amountInt': 2799, 'currency': 'GBP'}, 'cut': 0}}\n",
      "{'timestamp': '2023-11-28T19:12:41+01:00', 'shop': {'id': 61, 'name': 'Steam'}, 'deal': {'price': {'amount': 27.99, 'amountInt': 2799, 'currency': 'GBP'}, 'regular': {'amount': 27.99, 'amountInt': 2799, 'currency': 'GBP'}, 'cut': 0}}\n",
      "{'timestamp': '2023-12-13T17:01:46+01:00', 'shop': {'id': 16, 'name': 'Epic Game Store'}, 'deal': {'price': {'amount': 15.39, 'amountInt': 1539, 'currency': 'GBP'}, 'regular': {'amount': 27.99, 'amountInt': 2799, 'currency': 'GBP'}, 'cut': 45}}\n"
     ]
    }
   ],
   "source": [
    "for j in var:\n",
    "    print(j)"
   ]
  },
  {
   "cell_type": "code",
   "execution_count": null,
   "id": "cb7169d3",
   "metadata": {},
   "outputs": [],
   "source": []
  }
 ],
 "metadata": {
  "kernelspec": {
   "display_name": "Python 3",
   "language": "python",
   "name": "python3"
  },
  "language_info": {
   "codemirror_mode": {
    "name": "ipython",
    "version": 3
   },
   "file_extension": ".py",
   "mimetype": "text/x-python",
   "name": "python",
   "nbconvert_exporter": "python",
   "pygments_lexer": "ipython3",
   "version": "3.8.8"
  }
 },
 "nbformat": 4,
 "nbformat_minor": 5
}
