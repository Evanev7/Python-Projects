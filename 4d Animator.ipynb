{
 "cells": [
  {
   "cell_type": "code",
   "execution_count": 2,
   "metadata": {
    "collapsed": true
   },
   "outputs": [],
   "source": [
    "import numpy as np\n",
    "from matplotlib import pyplot as plt\n",
    "from matplotlib import animation, rc\n",
    "from IPython.display import HTML\n",
    "from mpl_toolkits.mplot3d import Axes3D\n",
    "from time import time\n",
    "from numba import jit"
   ]
  },
  {
   "cell_type": "code",
   "execution_count": 3,
   "metadata": {
    "collapsed": true
   },
   "outputs": [],
   "source": [
    "@jit\n",
    "def getpoints(eq, area, resolution):\n",
    "    x,y,z,w = [[]],[[]],[[]],[[]]\n",
    "    xap, yap, zap, wap = x[0].append, y[0].append, z[0].append, w[0].append\n",
    "    n = area[0][0]\n",
    "    while n < area[1][0]:\n",
    "        n += ( area[1][0] - area[0][0] )/ resolution\n",
    "        m = area[0][1]\n",
    "        while m < area[1][1]:\n",
    "                m += ( area[1][1] - area[0][1] ) / resolution\n",
    "                Z = complex(n,m)\n",
    "                p=0\n",
    "                #for e in range(len(eq)):\n",
    "                #    p+=eq[e] * (Z**e)\n",
    "                #p = np.cos(Z)\n",
    "                for i in range(2):\n",
    "                    p = ((-1)**i)*(Z**1.5)\n",
    "                    xap(Z.real)\n",
    "                    yap(Z.imag)\n",
    "                    zap(p.real)\n",
    "                    wap(p.imag)\n",
    "    return x,y,z,w\n",
    "\n",
    "@jit\n",
    "def rotate(x,y,z,w,rotres, mat):\n",
    "    for i in range(rotres):\n",
    "        vec = np.array(np.c_[x[-1],y[-1],z[-1],w[-1]])\n",
    "        vecdot = np.dot(vec,mat)\n",
    "        x.append(list(vecdot[:,0].A1))\n",
    "        y.append(list(vecdot[:,1].A1))\n",
    "        z.append(list(vecdot[:,2].A1))\n",
    "        w.append(list(vecdot[:,3].A1))\n",
    "        yield x,y,z,w"
   ]
  },
  {
   "cell_type": "code",
   "execution_count": 16,
   "metadata": {},
   "outputs": [],
   "source": [
    "#@jit\n",
    "def update(i, scat, G, operations):\n",
    "        x,y,z,w = next(G)\n",
    "        if i*100 % operations == 0 and i != 0:\n",
    "            print(str(i*100/operations)+\"% Complete\")\n",
    "        scat._offsets3d = (x[i], y[i], z[i])\n",
    "        scat.set_array(np.array(w[i]))\n",
    "        return scat,\n",
    "\n",
    "    \n",
    "def draw(eq, area = [[-1,-1],[1,1]], resolution = 100, rotres = 100):\n",
    "    \n",
    "    mat = np.matrix([[np.cos(2*np.pi/(rotres)),-np.sin(2*np.pi/(rotres)),0,0],\n",
    "                       [np.sin(2*np.pi/(rotres)), np.cos(2*np.pi/(rotres)),0,0],\n",
    "                       [0, 0, np.cos(2*np.pi/(rotres)),-np.sin(2*np.pi/(rotres))],\n",
    "                       [0, 0, np.sin(2*np.pi/(rotres)), np.cos(2*np.pi/(rotres))]])\n",
    "        \n",
    "    x,y,z,w = getpoints(eq, area, resolution)\n",
    "    Gs = rotate(x,y,z,w,rotres,mat)\n",
    "        \n",
    "        \n",
    "    rc('animation', html='html5')\n",
    "    fig = plt.figure(figsize = [20,15])\n",
    "    ax = fig.gca(projection = '3d')\n",
    "    ax.set_xlabel(\"Re(Z)\")\n",
    "    ax.set_ylabel(\"Im(Z)\")\n",
    "    scat = ax.scatter([],[],[])\n",
    "    ax.set_xlim([min(np.array(x).flatten()),max(np.array(x).flatten())])\n",
    "    ax.set_ylim([min(np.array(y).flatten()),max(np.array(y).flatten())])\n",
    "    ax.set_zlim([min(np.array(z).flatten()),max(np.array(z).flatten())])\n",
    "    \n",
    "    return animation.FuncAnimation(fig, update, frames=rotres, fargs=(scat,Gs, resolution*2), blit = True)"
   ]
  },
  {
   "cell_type": "code",
   "execution_count": 17,
   "metadata": {
    "scrolled": false
   },
   "outputs": [],
   "source": [
    "ani = draw([0,0,1], [[-1,-1],[1,1]], 100, 100)"
   ]
  },
  {
   "cell_type": "code",
   "execution_count": 18,
   "metadata": {},
   "outputs": [
    {
     "name": "stdout",
     "output_type": "stream",
     "text": [
      "1.0% Complete\n",
      "2.0% Complete\n",
      "3.0% Complete\n",
      "4.0% Complete\n",
      "5.0% Complete\n",
      "6.0% Complete\n",
      "7.0% Complete\n",
      "8.0% Complete\n",
      "9.0% Complete\n",
      "10.0% Complete\n",
      "11.0% Complete\n",
      "12.0% Complete\n",
      "13.0% Complete\n",
      "14.0% Complete\n",
      "15.0% Complete\n",
      "16.0% Complete\n",
      "17.0% Complete\n",
      "18.0% Complete\n",
      "19.0% Complete\n",
      "20.0% Complete\n",
      "21.0% Complete\n",
      "22.0% Complete\n",
      "23.0% Complete\n",
      "24.0% Complete\n",
      "25.0% Complete\n",
      "26.0% Complete\n",
      "27.0% Complete\n",
      "28.0% Complete\n",
      "29.0% Complete\n",
      "30.0% Complete\n",
      "31.0% Complete\n",
      "32.0% Complete\n",
      "33.0% Complete\n",
      "34.0% Complete\n",
      "35.0% Complete\n",
      "36.0% Complete\n",
      "37.0% Complete\n",
      "38.0% Complete\n",
      "39.0% Complete\n",
      "40.0% Complete\n",
      "41.0% Complete\n",
      "42.0% Complete\n",
      "43.0% Complete\n",
      "44.0% Complete\n",
      "45.0% Complete\n",
      "46.0% Complete\n",
      "47.0% Complete\n",
      "48.0% Complete\n"
     ]
    },
    {
     "ename": "StopIteration",
     "evalue": "",
     "output_type": "error",
     "traceback": [
      "\u001b[1;31m---------------------------------------------------------------------------\u001b[0m",
      "\u001b[1;31mStopIteration\u001b[0m                             Traceback (most recent call last)",
      "\u001b[1;32m<ipython-input-18-2bd91f307405>\u001b[0m in \u001b[0;36m<module>\u001b[1;34m()\u001b[0m\n\u001b[1;32m----> 1\u001b[1;33m \u001b[0mani\u001b[0m\u001b[1;33m.\u001b[0m\u001b[0msave\u001b[0m\u001b[1;33m(\u001b[0m\u001b[1;34m\"Semi Cubical Parabola Rotation.mp4\"\u001b[0m\u001b[1;33m,\u001b[0m \u001b[0mfps\u001b[0m\u001b[1;33m=\u001b[0m\u001b[1;36m60\u001b[0m\u001b[1;33m,\u001b[0m \u001b[0mdpi\u001b[0m\u001b[1;33m=\u001b[0m\u001b[1;36m150\u001b[0m\u001b[1;33m,\u001b[0m \u001b[0mextra_args\u001b[0m\u001b[1;33m=\u001b[0m\u001b[1;33m[\u001b[0m\u001b[1;34m'-vcodec'\u001b[0m\u001b[1;33m,\u001b[0m \u001b[1;34m'libx264'\u001b[0m\u001b[1;33m]\u001b[0m\u001b[1;33m)\u001b[0m\u001b[1;33m\u001b[0m\u001b[0m\n\u001b[0m",
      "\u001b[1;32mC:\\ProgramData\\Anaconda3\\lib\\site-packages\\matplotlib\\animation.py\u001b[0m in \u001b[0;36msave\u001b[1;34m(self, filename, writer, fps, dpi, codec, bitrate, extra_args, metadata, extra_anim, savefig_kwargs)\u001b[0m\n\u001b[0;32m   1060\u001b[0m                     \u001b[1;32mfor\u001b[0m \u001b[0manim\u001b[0m\u001b[1;33m,\u001b[0m \u001b[0md\u001b[0m \u001b[1;32min\u001b[0m \u001b[0mzip\u001b[0m\u001b[1;33m(\u001b[0m\u001b[0mall_anim\u001b[0m\u001b[1;33m,\u001b[0m \u001b[0mdata\u001b[0m\u001b[1;33m)\u001b[0m\u001b[1;33m:\u001b[0m\u001b[1;33m\u001b[0m\u001b[0m\n\u001b[0;32m   1061\u001b[0m                         \u001b[1;31m# TODO: See if turning off blit is really necessary\u001b[0m\u001b[1;33m\u001b[0m\u001b[1;33m\u001b[0m\u001b[0m\n\u001b[1;32m-> 1062\u001b[1;33m                         \u001b[0manim\u001b[0m\u001b[1;33m.\u001b[0m\u001b[0m_draw_next_frame\u001b[0m\u001b[1;33m(\u001b[0m\u001b[0md\u001b[0m\u001b[1;33m,\u001b[0m \u001b[0mblit\u001b[0m\u001b[1;33m=\u001b[0m\u001b[1;32mFalse\u001b[0m\u001b[1;33m)\u001b[0m\u001b[1;33m\u001b[0m\u001b[0m\n\u001b[0m\u001b[0;32m   1063\u001b[0m                     \u001b[0mwriter\u001b[0m\u001b[1;33m.\u001b[0m\u001b[0mgrab_frame\u001b[0m\u001b[1;33m(\u001b[0m\u001b[1;33m**\u001b[0m\u001b[0msavefig_kwargs\u001b[0m\u001b[1;33m)\u001b[0m\u001b[1;33m\u001b[0m\u001b[0m\n\u001b[0;32m   1064\u001b[0m \u001b[1;33m\u001b[0m\u001b[0m\n",
      "\u001b[1;32mC:\\ProgramData\\Anaconda3\\lib\\site-packages\\matplotlib\\animation.py\u001b[0m in \u001b[0;36m_draw_next_frame\u001b[1;34m(self, framedata, blit)\u001b[0m\n\u001b[0;32m   1097\u001b[0m         \u001b[1;31m# post- draw, as well as the drawing of the frame itself.\u001b[0m\u001b[1;33m\u001b[0m\u001b[1;33m\u001b[0m\u001b[0m\n\u001b[0;32m   1098\u001b[0m         \u001b[0mself\u001b[0m\u001b[1;33m.\u001b[0m\u001b[0m_pre_draw\u001b[0m\u001b[1;33m(\u001b[0m\u001b[0mframedata\u001b[0m\u001b[1;33m,\u001b[0m \u001b[0mblit\u001b[0m\u001b[1;33m)\u001b[0m\u001b[1;33m\u001b[0m\u001b[0m\n\u001b[1;32m-> 1099\u001b[1;33m         \u001b[0mself\u001b[0m\u001b[1;33m.\u001b[0m\u001b[0m_draw_frame\u001b[0m\u001b[1;33m(\u001b[0m\u001b[0mframedata\u001b[0m\u001b[1;33m)\u001b[0m\u001b[1;33m\u001b[0m\u001b[0m\n\u001b[0m\u001b[0;32m   1100\u001b[0m         \u001b[0mself\u001b[0m\u001b[1;33m.\u001b[0m\u001b[0m_post_draw\u001b[0m\u001b[1;33m(\u001b[0m\u001b[0mframedata\u001b[0m\u001b[1;33m,\u001b[0m \u001b[0mblit\u001b[0m\u001b[1;33m)\u001b[0m\u001b[1;33m\u001b[0m\u001b[0m\n\u001b[0;32m   1101\u001b[0m \u001b[1;33m\u001b[0m\u001b[0m\n",
      "\u001b[1;32mC:\\ProgramData\\Anaconda3\\lib\\site-packages\\matplotlib\\animation.py\u001b[0m in \u001b[0;36m_draw_frame\u001b[1;34m(self, framedata)\u001b[0m\n\u001b[0;32m   1560\u001b[0m         \u001b[1;31m# Call the func with framedata and args. If blitting is desired,\u001b[0m\u001b[1;33m\u001b[0m\u001b[1;33m\u001b[0m\u001b[0m\n\u001b[0;32m   1561\u001b[0m         \u001b[1;31m# func needs to return a sequence of any artists that were modified.\u001b[0m\u001b[1;33m\u001b[0m\u001b[1;33m\u001b[0m\u001b[0m\n\u001b[1;32m-> 1562\u001b[1;33m         \u001b[0mself\u001b[0m\u001b[1;33m.\u001b[0m\u001b[0m_drawn_artists\u001b[0m \u001b[1;33m=\u001b[0m \u001b[0mself\u001b[0m\u001b[1;33m.\u001b[0m\u001b[0m_func\u001b[0m\u001b[1;33m(\u001b[0m\u001b[0mframedata\u001b[0m\u001b[1;33m,\u001b[0m \u001b[1;33m*\u001b[0m\u001b[0mself\u001b[0m\u001b[1;33m.\u001b[0m\u001b[0m_args\u001b[0m\u001b[1;33m)\u001b[0m\u001b[1;33m\u001b[0m\u001b[0m\n\u001b[0m\u001b[0;32m   1563\u001b[0m         \u001b[1;32mif\u001b[0m \u001b[0mself\u001b[0m\u001b[1;33m.\u001b[0m\u001b[0m_blit\u001b[0m\u001b[1;33m:\u001b[0m\u001b[1;33m\u001b[0m\u001b[0m\n\u001b[0;32m   1564\u001b[0m             \u001b[1;32mif\u001b[0m \u001b[0mself\u001b[0m\u001b[1;33m.\u001b[0m\u001b[0m_drawn_artists\u001b[0m \u001b[1;32mis\u001b[0m \u001b[1;32mNone\u001b[0m\u001b[1;33m:\u001b[0m\u001b[1;33m\u001b[0m\u001b[0m\n",
      "\u001b[1;32m<ipython-input-16-9bda91b1d7a0>\u001b[0m in \u001b[0;36mupdate\u001b[1;34m(i, scat, G, operations)\u001b[0m\n\u001b[0;32m      1\u001b[0m \u001b[1;31m#@jit\u001b[0m\u001b[1;33m\u001b[0m\u001b[1;33m\u001b[0m\u001b[0m\n\u001b[0;32m      2\u001b[0m \u001b[1;32mdef\u001b[0m \u001b[0mupdate\u001b[0m\u001b[1;33m(\u001b[0m\u001b[0mi\u001b[0m\u001b[1;33m,\u001b[0m \u001b[0mscat\u001b[0m\u001b[1;33m,\u001b[0m \u001b[0mG\u001b[0m\u001b[1;33m,\u001b[0m \u001b[0moperations\u001b[0m\u001b[1;33m)\u001b[0m\u001b[1;33m:\u001b[0m\u001b[1;33m\u001b[0m\u001b[0m\n\u001b[1;32m----> 3\u001b[1;33m         \u001b[0mx\u001b[0m\u001b[1;33m,\u001b[0m\u001b[0my\u001b[0m\u001b[1;33m,\u001b[0m\u001b[0mz\u001b[0m\u001b[1;33m,\u001b[0m\u001b[0mw\u001b[0m \u001b[1;33m=\u001b[0m \u001b[0mnext\u001b[0m\u001b[1;33m(\u001b[0m\u001b[0mG\u001b[0m\u001b[1;33m)\u001b[0m\u001b[1;33m\u001b[0m\u001b[0m\n\u001b[0m\u001b[0;32m      4\u001b[0m         \u001b[1;32mif\u001b[0m \u001b[0mi\u001b[0m\u001b[1;33m*\u001b[0m\u001b[1;36m100\u001b[0m \u001b[1;33m%\u001b[0m \u001b[0moperations\u001b[0m \u001b[1;33m==\u001b[0m \u001b[1;36m0\u001b[0m \u001b[1;32mand\u001b[0m \u001b[0mi\u001b[0m \u001b[1;33m!=\u001b[0m \u001b[1;36m0\u001b[0m\u001b[1;33m:\u001b[0m\u001b[1;33m\u001b[0m\u001b[0m\n\u001b[0;32m      5\u001b[0m             \u001b[0mprint\u001b[0m\u001b[1;33m(\u001b[0m\u001b[0mstr\u001b[0m\u001b[1;33m(\u001b[0m\u001b[0mi\u001b[0m\u001b[1;33m*\u001b[0m\u001b[1;36m100\u001b[0m\u001b[1;33m/\u001b[0m\u001b[0moperations\u001b[0m\u001b[1;33m)\u001b[0m\u001b[1;33m+\u001b[0m\u001b[1;34m\"% Complete\"\u001b[0m\u001b[1;33m)\u001b[0m\u001b[1;33m\u001b[0m\u001b[0m\n",
      "\u001b[1;31mStopIteration\u001b[0m: "
     ]
    }
   ],
   "source": [
    "ani.save(\"Semi Cubical Parabola Rotation.mp4\", fps=60, dpi=150, extra_args=['-vcodec', 'libx264'])"
   ]
  },
  {
   "cell_type": "code",
   "execution_count": null,
   "metadata": {
    "collapsed": true
   },
   "outputs": [],
   "source": [
    "ani"
   ]
  }
 ],
 "metadata": {
  "kernelspec": {
   "display_name": "Python 3",
   "language": "python",
   "name": "python3"
  },
  "language_info": {
   "codemirror_mode": {
    "name": "ipython",
    "version": 3
   },
   "file_extension": ".py",
   "mimetype": "text/x-python",
   "name": "python",
   "nbconvert_exporter": "python",
   "pygments_lexer": "ipython3",
   "version": "3.6.1"
  }
 },
 "nbformat": 4,
 "nbformat_minor": 2
}
